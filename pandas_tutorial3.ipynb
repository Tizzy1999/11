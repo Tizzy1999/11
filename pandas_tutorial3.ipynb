{
  "nbformat": 4,
  "nbformat_minor": 0,
  "metadata": {
    "colab": {
      "name": "pandas_tutorial3.ipynb",
      "provenance": [],
      "collapsed_sections": [],
      "include_colab_link": true
    },
    "kernelspec": {
      "name": "python3",
      "display_name": "Python 3"
    }
  },
  "cells": [
    {
      "cell_type": "markdown",
      "metadata": {
        "id": "view-in-github",
        "colab_type": "text"
      },
      "source": [
        "<a href=\"https://colab.research.google.com/github/Tizzy1999/ml2019/blob/master/pandas_tutorial3.ipynb\" target=\"_parent\"><img src=\"https://colab.research.google.com/assets/colab-badge.svg\" alt=\"Open In Colab\"/></a>"
      ]
    },
    {
      "cell_type": "code",
      "metadata": {
        "id": "BtD_nV13DQ7o",
        "colab_type": "code",
        "outputId": "6ae3c1eb-e628-4408-cdb7-4cc071cb787b",
        "colab": {
          "base_uri": "https://localhost:8080/",
          "height": 126
        }
      },
      "source": [
        "from google.colab import drive\n",
        "drive.mount('/content/gdrive')"
      ],
      "execution_count": 0,
      "outputs": [
        {
          "output_type": "stream",
          "text": [
            "Go to this URL in a browser: https://accounts.google.com/o/oauth2/auth?client_id=947318989803-6bn6qk8qdgf4n4g3pfee6491hc0brc4i.apps.googleusercontent.com&redirect_uri=urn%3aietf%3awg%3aoauth%3a2.0%3aoob&response_type=code&scope=email%20https%3a%2f%2fwww.googleapis.com%2fauth%2fdocs.test%20https%3a%2f%2fwww.googleapis.com%2fauth%2fdrive%20https%3a%2f%2fwww.googleapis.com%2fauth%2fdrive.photos.readonly%20https%3a%2f%2fwww.googleapis.com%2fauth%2fpeopleapi.readonly\n",
            "\n",
            "Enter your authorization code:\n",
            "··········\n",
            "Mounted at /content/gdrive\n"
          ],
          "name": "stdout"
        }
      ]
    },
    {
      "cell_type": "code",
      "metadata": {
        "id": "Chjt2FOpDVt2",
        "colab_type": "code",
        "colab": {}
      },
      "source": [
        "import pandas as pd\n",
        "import matplotlib.pyplot as plt\n",
        "%matplotlib inline"
      ],
      "execution_count": 0,
      "outputs": []
    },
    {
      "cell_type": "markdown",
      "metadata": {
        "id": "fWIr4tbQERfU",
        "colab_type": "text"
      },
      "source": [
        "##**Practice with plolicing**"
      ]
    },
    {
      "cell_type": "code",
      "metadata": {
        "id": "KZ8MJKExEKF2",
        "colab_type": "code",
        "colab": {}
      },
      "source": [
        "police_url = '/content/gdrive/My Drive/201911ML/police.txt'\n",
        "ri = pd.read_csv(police_url)"
      ],
      "execution_count": 0,
      "outputs": []
    },
    {
      "cell_type": "markdown",
      "metadata": {
        "id": "-eajV_vGFdK9",
        "colab_type": "text"
      },
      "source": [
        "## **Dataset1: Policing Project**"
      ]
    },
    {
      "cell_type": "code",
      "metadata": {
        "id": "iITJ256GFbrz",
        "colab_type": "code",
        "outputId": "8cab7147-e309-44cb-ba60-b7772866da59",
        "colab": {
          "base_uri": "https://localhost:8080/",
          "height": 211
        }
      },
      "source": [
        "ri.head(3)"
      ],
      "execution_count": 0,
      "outputs": [
        {
          "output_type": "execute_result",
          "data": {
            "text/html": [
              "<div>\n",
              "<style scoped>\n",
              "    .dataframe tbody tr th:only-of-type {\n",
              "        vertical-align: middle;\n",
              "    }\n",
              "\n",
              "    .dataframe tbody tr th {\n",
              "        vertical-align: top;\n",
              "    }\n",
              "\n",
              "    .dataframe thead th {\n",
              "        text-align: right;\n",
              "    }\n",
              "</style>\n",
              "<table border=\"1\" class=\"dataframe\">\n",
              "  <thead>\n",
              "    <tr style=\"text-align: right;\">\n",
              "      <th></th>\n",
              "      <th>stop_date</th>\n",
              "      <th>stop_time</th>\n",
              "      <th>county_name</th>\n",
              "      <th>driver_gender</th>\n",
              "      <th>driver_age_raw</th>\n",
              "      <th>driver_age</th>\n",
              "      <th>driver_race</th>\n",
              "      <th>violation_raw</th>\n",
              "      <th>violation</th>\n",
              "      <th>search_conducted</th>\n",
              "      <th>search_type</th>\n",
              "      <th>stop_outcome</th>\n",
              "      <th>is_arrested</th>\n",
              "      <th>stop_duration</th>\n",
              "      <th>drugs_related_stop</th>\n",
              "    </tr>\n",
              "  </thead>\n",
              "  <tbody>\n",
              "    <tr>\n",
              "      <th>0</th>\n",
              "      <td>2005-01-02</td>\n",
              "      <td>01:55</td>\n",
              "      <td>NaN</td>\n",
              "      <td>M</td>\n",
              "      <td>1985.0</td>\n",
              "      <td>20.0</td>\n",
              "      <td>White</td>\n",
              "      <td>Speeding</td>\n",
              "      <td>Speeding</td>\n",
              "      <td>False</td>\n",
              "      <td>NaN</td>\n",
              "      <td>Citation</td>\n",
              "      <td>False</td>\n",
              "      <td>0-15 Min</td>\n",
              "      <td>False</td>\n",
              "    </tr>\n",
              "    <tr>\n",
              "      <th>1</th>\n",
              "      <td>2005-01-18</td>\n",
              "      <td>08:15</td>\n",
              "      <td>NaN</td>\n",
              "      <td>M</td>\n",
              "      <td>1965.0</td>\n",
              "      <td>40.0</td>\n",
              "      <td>White</td>\n",
              "      <td>Speeding</td>\n",
              "      <td>Speeding</td>\n",
              "      <td>False</td>\n",
              "      <td>NaN</td>\n",
              "      <td>Citation</td>\n",
              "      <td>False</td>\n",
              "      <td>0-15 Min</td>\n",
              "      <td>False</td>\n",
              "    </tr>\n",
              "    <tr>\n",
              "      <th>2</th>\n",
              "      <td>2005-01-23</td>\n",
              "      <td>23:15</td>\n",
              "      <td>NaN</td>\n",
              "      <td>M</td>\n",
              "      <td>1972.0</td>\n",
              "      <td>33.0</td>\n",
              "      <td>White</td>\n",
              "      <td>Speeding</td>\n",
              "      <td>Speeding</td>\n",
              "      <td>False</td>\n",
              "      <td>NaN</td>\n",
              "      <td>Citation</td>\n",
              "      <td>False</td>\n",
              "      <td>0-15 Min</td>\n",
              "      <td>False</td>\n",
              "    </tr>\n",
              "  </tbody>\n",
              "</table>\n",
              "</div>"
            ],
            "text/plain": [
              "    stop_date stop_time  ...  stop_duration drugs_related_stop\n",
              "0  2005-01-02     01:55  ...       0-15 Min              False\n",
              "1  2005-01-18     08:15  ...       0-15 Min              False\n",
              "2  2005-01-23     23:15  ...       0-15 Min              False\n",
              "\n",
              "[3 rows x 15 columns]"
            ]
          },
          "metadata": {
            "tags": []
          },
          "execution_count": 8
        }
      ]
    },
    {
      "cell_type": "code",
      "metadata": {
        "id": "2XPsvYHwFn3h",
        "colab_type": "code",
        "outputId": "ba6f843e-026e-409b-e1c5-cfb8fe2badd8",
        "colab": {
          "base_uri": "https://localhost:8080/",
          "height": 35
        }
      },
      "source": [
        "ri.shape"
      ],
      "execution_count": 0,
      "outputs": [
        {
          "output_type": "execute_result",
          "data": {
            "text/plain": [
              "(91741, 15)"
            ]
          },
          "metadata": {
            "tags": []
          },
          "execution_count": 10
        }
      ]
    },
    {
      "cell_type": "code",
      "metadata": {
        "id": "-lUiVwO4FtcS",
        "colab_type": "code",
        "outputId": "53f836a4-1934-49f0-f163-6480d40ac1e7",
        "colab": {
          "base_uri": "https://localhost:8080/",
          "height": 303
        }
      },
      "source": [
        "ri.dtypes"
      ],
      "execution_count": 0,
      "outputs": [
        {
          "output_type": "execute_result",
          "data": {
            "text/plain": [
              "stop_date              object\n",
              "stop_time              object\n",
              "county_name           float64\n",
              "driver_gender          object\n",
              "driver_age_raw        float64\n",
              "driver_age            float64\n",
              "driver_race            object\n",
              "violation_raw          object\n",
              "violation              object\n",
              "search_conducted         bool\n",
              "search_type            object\n",
              "stop_outcome           object\n",
              "is_arrested            object\n",
              "stop_duration          object\n",
              "drugs_related_stop       bool\n",
              "dtype: object"
            ]
          },
          "metadata": {
            "tags": []
          },
          "execution_count": 11
        }
      ]
    },
    {
      "cell_type": "code",
      "metadata": {
        "id": "pcjzcJM2Fxud",
        "colab_type": "code",
        "outputId": "aa220782-6889-45d1-f937-fb92e6777a8c",
        "colab": {
          "base_uri": "https://localhost:8080/",
          "height": 303
        }
      },
      "source": [
        "# the count of missing value in each column\n",
        "ri.isnull().sum()"
      ],
      "execution_count": 0,
      "outputs": [
        {
          "output_type": "execute_result",
          "data": {
            "text/plain": [
              "stop_date                 0\n",
              "stop_time                 0\n",
              "county_name           91741\n",
              "driver_gender          5335\n",
              "driver_age_raw         5327\n",
              "driver_age             5621\n",
              "driver_race            5333\n",
              "violation_raw          5333\n",
              "violation              5333\n",
              "search_conducted          0\n",
              "search_type           88545\n",
              "stop_outcome           5333\n",
              "is_arrested            5333\n",
              "stop_duration          5333\n",
              "drugs_related_stop        0\n",
              "dtype: int64"
            ]
          },
          "metadata": {
            "tags": []
          },
          "execution_count": 13
        }
      ]
    },
    {
      "cell_type": "code",
      "metadata": {
        "id": "Ol5qcv17F5Va",
        "colab_type": "code",
        "outputId": "2381cb10-7f7d-4ca3-8a7e-1774a73e2a08",
        "colab": {
          "base_uri": "https://localhost:8080/",
          "height": 303
        }
      },
      "source": [
        "ri.isnull().mean()"
      ],
      "execution_count": 0,
      "outputs": [
        {
          "output_type": "execute_result",
          "data": {
            "text/plain": [
              "stop_date             0.000000\n",
              "stop_time             0.000000\n",
              "county_name           1.000000\n",
              "driver_gender         0.058153\n",
              "driver_age_raw        0.058066\n",
              "driver_age            0.061270\n",
              "driver_race           0.058131\n",
              "violation_raw         0.058131\n",
              "violation             0.058131\n",
              "search_conducted      0.000000\n",
              "search_type           0.965163\n",
              "stop_outcome          0.058131\n",
              "is_arrested           0.058131\n",
              "stop_duration         0.058131\n",
              "drugs_related_stop    0.000000\n",
              "dtype: float64"
            ]
          },
          "metadata": {
            "tags": []
          },
          "execution_count": 14
        }
      ]
    },
    {
      "cell_type": "code",
      "metadata": {
        "id": "ySPcen6uGa7u",
        "colab_type": "code",
        "colab": {}
      },
      "source": [
        "# 1. Remove column that contains missing values only\n",
        "ri.drop('county_name',axis=\"columns\",inplace=True)"
      ],
      "execution_count": 0,
      "outputs": []
    },
    {
      "cell_type": "code",
      "metadata": {
        "id": "zBIrjhcWGm2X",
        "colab_type": "code",
        "outputId": "ca034442-6096-4cd4-b4f8-7926c9d729eb",
        "colab": {
          "base_uri": "https://localhost:8080/",
          "height": 35
        }
      },
      "source": [
        "ri.shape"
      ],
      "execution_count": 0,
      "outputs": [
        {
          "output_type": "execute_result",
          "data": {
            "text/plain": [
              "(91741, 14)"
            ]
          },
          "metadata": {
            "tags": []
          },
          "execution_count": 17
        }
      ]
    },
    {
      "cell_type": "code",
      "metadata": {
        "id": "3Bcgi3m_G0qn",
        "colab_type": "code",
        "outputId": "a08d0649-6160-4185-d7db-0d512c2edde4",
        "colab": {
          "base_uri": "https://localhost:8080/",
          "height": 160
        }
      },
      "source": [
        "# 2. Do man or woman speed more often?\n",
        "ri.violation.value_counts(dropna=False)"
      ],
      "execution_count": 0,
      "outputs": [
        {
          "output_type": "execute_result",
          "data": {
            "text/plain": [
              "Speeding               48463\n",
              "Moving violation       16224\n",
              "Equipment              11020\n",
              "NaN                     5333\n",
              "Other                   4317\n",
              "Registration/plates     3432\n",
              "Seat belt               2952\n",
              "Name: violation, dtype: int64"
            ]
          },
          "metadata": {
            "tags": []
          },
          "execution_count": 20
        }
      ]
    },
    {
      "cell_type": "code",
      "metadata": {
        "id": "BmlhGlOFHiCM",
        "colab_type": "code",
        "outputId": "e5babf96-9395-4dd2-aae2-29a57bd18d89",
        "colab": {
          "base_uri": "https://localhost:8080/",
          "height": 71
        }
      },
      "source": [
        "# Perspective 1: \n",
        "# for all speeding violations, percentage of male versus female\n",
        "ri[ri.violation == 'Speeding'].driver_gender.value_counts(normalize=True)"
      ],
      "execution_count": 0,
      "outputs": [
        {
          "output_type": "execute_result",
          "data": {
            "text/plain": [
              "M    0.680527\n",
              "F    0.319473\n",
              "Name: driver_gender, dtype: float64"
            ]
          },
          "metadata": {
            "tags": []
          },
          "execution_count": 23
        }
      ]
    },
    {
      "cell_type": "code",
      "metadata": {
        "id": "FOC8QQGzH0-d",
        "colab_type": "code",
        "outputId": "39f8d4d1-9f4a-406d-d80b-a70e0eb79615",
        "colab": {
          "base_uri": "https://localhost:8080/",
          "height": 142
        }
      },
      "source": [
        "# Perspective 2:\n",
        "# Out of all violations for male, percentage of speeding \n",
        "ri[ri.driver_gender=='M'].violation.value_counts(normalize=True)"
      ],
      "execution_count": 0,
      "outputs": [
        {
          "output_type": "execute_result",
          "data": {
            "text/plain": [
              "Speeding               0.524350\n",
              "Moving violation       0.207012\n",
              "Equipment              0.135671\n",
              "Other                  0.057668\n",
              "Registration/plates    0.038461\n",
              "Seat belt              0.036839\n",
              "Name: violation, dtype: float64"
            ]
          },
          "metadata": {
            "tags": []
          },
          "execution_count": 25
        }
      ]
    },
    {
      "cell_type": "code",
      "metadata": {
        "id": "8eBndwA8IEGB",
        "colab_type": "code",
        "outputId": "987f4750-9b3b-4402-a0c0-2108ce2857a0",
        "colab": {
          "base_uri": "https://localhost:8080/",
          "height": 142
        }
      },
      "source": [
        "# Out of all violations for female, percentage of speeding\n",
        "ri[ri.driver_gender=='F'].violation.value_counts(normalize=True)"
      ],
      "execution_count": 0,
      "outputs": [
        {
          "output_type": "execute_result",
          "data": {
            "text/plain": [
              "Speeding               0.658500\n",
              "Moving violation       0.136277\n",
              "Equipment              0.105780\n",
              "Registration/plates    0.043086\n",
              "Other                  0.029348\n",
              "Seat belt              0.027009\n",
              "Name: violation, dtype: float64"
            ]
          },
          "metadata": {
            "tags": []
          },
          "execution_count": 26
        }
      ]
    },
    {
      "cell_type": "code",
      "metadata": {
        "id": "an-zF-XzIHaZ",
        "colab_type": "code",
        "outputId": "a2b0a54d-5cd9-40b2-f067-fa598cc3459a",
        "colab": {
          "base_uri": "https://localhost:8080/",
          "height": 88
        }
      },
      "source": [
        "# Summarize\n",
        "ri.groupby('driver_gender').violation.value_counts(normalize=True).loc[:,'Speeding']"
      ],
      "execution_count": 0,
      "outputs": [
        {
          "output_type": "execute_result",
          "data": {
            "text/plain": [
              "driver_gender\n",
              "F    0.65850\n",
              "M    0.52435\n",
              "Name: violation, dtype: float64"
            ]
          },
          "metadata": {
            "tags": []
          },
          "execution_count": 28
        }
      ]
    },
    {
      "cell_type": "code",
      "metadata": {
        "id": "VJ_-srveKTYj",
        "colab_type": "code",
        "outputId": "8aafd07d-bc34-4425-c463-716cdf4e3540",
        "colab": {
          "base_uri": "https://localhost:8080/",
          "height": 35
        }
      },
      "source": [
        "# 3. Does gender affect who gets searched during a stop?\n",
        "ri.search_conducted.mean()"
      ],
      "execution_count": 0,
      "outputs": [
        {
          "output_type": "execute_result",
          "data": {
            "text/plain": [
              "0.03483720473942948"
            ]
          },
          "metadata": {
            "tags": []
          },
          "execution_count": 35
        }
      ]
    },
    {
      "cell_type": "code",
      "metadata": {
        "id": "2A-55Sl9MIhK",
        "colab_type": "code",
        "outputId": "a2f0401a-706d-41b2-d122-5fcdb547d795",
        "colab": {
          "base_uri": "https://localhost:8080/",
          "height": 88
        }
      },
      "source": [
        "ri.groupby('driver_gender').search_conducted.mean()"
      ],
      "execution_count": 0,
      "outputs": [
        {
          "output_type": "execute_result",
          "data": {
            "text/plain": [
              "driver_gender\n",
              "F    0.020033\n",
              "M    0.043326\n",
              "Name: search_conducted, dtype: float64"
            ]
          },
          "metadata": {
            "tags": []
          },
          "execution_count": 36
        }
      ]
    },
    {
      "cell_type": "code",
      "metadata": {
        "id": "O2dmHjTFLcdl",
        "colab_type": "code",
        "outputId": "e6af95b9-0222-4813-c561-0d81ebc33b15",
        "colab": {
          "base_uri": "https://localhost:8080/",
          "height": 267
        }
      },
      "source": [
        "# if you dig more deeply, you'll find that \n",
        "# male gets a higher search rate \n",
        "# for every violation\n",
        "ri.groupby(['violation','driver_gender']).search_conducted.mean()"
      ],
      "execution_count": 0,
      "outputs": [
        {
          "output_type": "execute_result",
          "data": {
            "text/plain": [
              "violation            driver_gender\n",
              "Equipment            F                0.042622\n",
              "                     M                0.070081\n",
              "Moving violation     F                0.036205\n",
              "                     M                0.059831\n",
              "Other                F                0.056522\n",
              "                     M                0.047146\n",
              "Registration/plates  F                0.066140\n",
              "                     M                0.110376\n",
              "Seat belt            F                0.012598\n",
              "                     M                0.037980\n",
              "Speeding             F                0.008720\n",
              "                     M                0.024925\n",
              "Name: search_conducted, dtype: float64"
            ]
          },
          "metadata": {
            "tags": []
          },
          "execution_count": 38
        }
      ]
    },
    {
      "cell_type": "code",
      "metadata": {
        "id": "0Ziogj5XO6CH",
        "colab_type": "code",
        "outputId": "b351ea1c-d0ce-4553-ced9-86f1e68891ac",
        "colab": {
          "base_uri": "https://localhost:8080/",
          "height": 35
        }
      },
      "source": [
        "# 4. Why's search_type missing so often?\n",
        "ri.search_type.isnull().mean()"
      ],
      "execution_count": 0,
      "outputs": [
        {
          "output_type": "execute_result",
          "data": {
            "text/plain": [
              "0.9651627952605705"
            ]
          },
          "metadata": {
            "tags": []
          },
          "execution_count": 40
        }
      ]
    },
    {
      "cell_type": "code",
      "metadata": {
        "id": "EKGzcsrqPE_s",
        "colab_type": "code",
        "outputId": "624bff8d-0e46-4565-9fb1-7db18f347375",
        "colab": {
          "base_uri": "https://localhost:8080/",
          "height": 35
        }
      },
      "source": [
        "ri.search_type.isnull().sum()"
      ],
      "execution_count": 0,
      "outputs": [
        {
          "output_type": "execute_result",
          "data": {
            "text/plain": [
              "88545"
            ]
          },
          "metadata": {
            "tags": []
          },
          "execution_count": 41
        }
      ]
    },
    {
      "cell_type": "code",
      "metadata": {
        "id": "cM7ehgARPUjC",
        "colab_type": "code",
        "outputId": "a2dbe871-300a-4b83-e96a-49032aa31eed",
        "colab": {
          "base_uri": "https://localhost:8080/",
          "height": 71
        }
      },
      "source": [
        "# as you can see, the NaN for search_type match the False for search_conducted\n",
        "ri.search_conducted.value_counts(dropna=False)"
      ],
      "execution_count": 0,
      "outputs": [
        {
          "output_type": "execute_result",
          "data": {
            "text/plain": [
              "False    88545\n",
              "True      3196\n",
              "Name: search_conducted, dtype: int64"
            ]
          },
          "metadata": {
            "tags": []
          },
          "execution_count": 42
        }
      ]
    },
    {
      "cell_type": "code",
      "metadata": {
        "id": "awtF7KCOPZOV",
        "colab_type": "code",
        "outputId": "61c40bdc-e36c-4862-8b5c-3f939d526527",
        "colab": {
          "base_uri": "https://localhost:8080/",
          "height": 464
        }
      },
      "source": [
        "# 5. During a search, how often is the driver frisked?\n",
        "ri.search_type.value_counts(normalize=True)"
      ],
      "execution_count": 0,
      "outputs": [
        {
          "output_type": "execute_result",
          "data": {
            "text/plain": [
              "Incident to Arrest                                          0.381414\n",
              "Probable Cause                                              0.278786\n",
              "Inventory                                                   0.068836\n",
              "Reasonable Suspicion                                        0.061640\n",
              "Protective Frisk                                            0.050375\n",
              "Incident to Arrest,Inventory                                0.040363\n",
              "Incident to Arrest,Probable Cause                           0.033166\n",
              "Probable Cause,Reasonable Suspicion                         0.023467\n",
              "Incident to Arrest,Inventory,Probable Cause                 0.010638\n",
              "Incident to Arrest,Protective Frisk                         0.010325\n",
              "Probable Cause,Protective Frisk                             0.010325\n",
              "Inventory,Probable Cause                                    0.006884\n",
              "Incident to Arrest,Reasonable Suspicion                     0.004068\n",
              "Protective Frisk,Reasonable Suspicion                       0.003442\n",
              "Inventory,Protective Frisk                                  0.003442\n",
              "Incident to Arrest,Inventory,Protective Frisk               0.003442\n",
              "Incident to Arrest,Probable Cause,Protective Frisk          0.003129\n",
              "Incident to Arrest,Probable Cause,Reasonable Suspicion      0.001877\n",
              "Incident to Arrest,Inventory,Reasonable Suspicion           0.001252\n",
              "Inventory,Reasonable Suspicion                              0.001252\n",
              "Inventory,Probable Cause,Reasonable Suspicion               0.000626\n",
              "Inventory,Probable Cause,Protective Frisk                   0.000626\n",
              "Probable Cause,Protective Frisk,Reasonable Suspicion        0.000313\n",
              "Incident to Arrest,Protective Frisk,Reasonable Suspicion    0.000313\n",
              "Name: search_type, dtype: float64"
            ]
          },
          "metadata": {
            "tags": []
          },
          "execution_count": 45
        }
      ]
    },
    {
      "cell_type": "code",
      "metadata": {
        "id": "dzhDp0gIQe4h",
        "colab_type": "code",
        "colab": {}
      },
      "source": [
        "ri['frisk'] = ri.search_type.str.contains('Protective Frisk')"
      ],
      "execution_count": 0,
      "outputs": []
    },
    {
      "cell_type": "code",
      "metadata": {
        "id": "7P0Y_daKRTWr",
        "colab_type": "code",
        "outputId": "b1a74810-e062-4ea1-db11-c8d4d7d08180",
        "colab": {
          "base_uri": "https://localhost:8080/",
          "height": 88
        }
      },
      "source": [
        "ri.frisk.value_counts(dropna=False)"
      ],
      "execution_count": 0,
      "outputs": [
        {
          "output_type": "execute_result",
          "data": {
            "text/plain": [
              "NaN      88545\n",
              "False     2922\n",
              "True       274\n",
              "Name: frisk, dtype: int64"
            ]
          },
          "metadata": {
            "tags": []
          },
          "execution_count": 52
        }
      ]
    },
    {
      "cell_type": "code",
      "metadata": {
        "id": "RSf4s6ZJQ-JF",
        "colab_type": "code",
        "outputId": "d749cd95-e3c6-41fe-9ce2-b4af909f0fe8",
        "colab": {
          "base_uri": "https://localhost:8080/",
          "height": 35
        }
      },
      "source": [
        "# By default, NaN is excluded during calculation \n",
        "ri.frisk.mean()"
      ],
      "execution_count": 0,
      "outputs": [
        {
          "output_type": "execute_result",
          "data": {
            "text/plain": [
              "0.08573216520650813"
            ]
          },
          "metadata": {
            "tags": []
          },
          "execution_count": 51
        }
      ]
    },
    {
      "cell_type": "code",
      "metadata": {
        "id": "zBDpVmzJRp70",
        "colab_type": "code",
        "outputId": "87e0885b-3185-4f3c-eb92-7b27c2c2cf73",
        "colab": {
          "base_uri": "https://localhost:8080/",
          "height": 213
        }
      },
      "source": [
        "# 6. Which year has the least number of stops?\n",
        "ri.stop_date.sample(10)"
      ],
      "execution_count": 0,
      "outputs": [
        {
          "output_type": "execute_result",
          "data": {
            "text/plain": [
              "53249    2011-10-17\n",
              "3884     2006-02-10\n",
              "90658    2015-11-08\n",
              "11121    2006-10-21\n",
              "65024    2012-11-16\n",
              "59620    2012-05-05\n",
              "71874    2013-09-23\n",
              "72260    2013-10-10\n",
              "79406    2014-07-25\n",
              "58982    2012-04-16\n",
              "Name: stop_date, dtype: object"
            ]
          },
          "metadata": {
            "tags": []
          },
          "execution_count": 55
        }
      ]
    },
    {
      "cell_type": "code",
      "metadata": {
        "id": "YEYtetOkT2yr",
        "colab_type": "code",
        "outputId": "f4d6b43a-b61f-4fef-a561-911c403dc2f1",
        "colab": {
          "base_uri": "https://localhost:8080/",
          "height": 213
        }
      },
      "source": [
        "ri.stop_time.sample(10)"
      ],
      "execution_count": 0,
      "outputs": [
        {
          "output_type": "execute_result",
          "data": {
            "text/plain": [
              "10808    11:47\n",
              "41341    13:52\n",
              "15688    15:21\n",
              "88126    13:00\n",
              "7403     02:08\n",
              "971      11:35\n",
              "36280    18:23\n",
              "466      01:45\n",
              "51316    09:02\n",
              "14200    16:50\n",
              "Name: stop_time, dtype: object"
            ]
          },
          "metadata": {
            "tags": []
          },
          "execution_count": 58
        }
      ]
    },
    {
      "cell_type": "code",
      "metadata": {
        "id": "59_PFSY3R5IY",
        "colab_type": "code",
        "outputId": "fc6666e0-91c0-4d85-96f6-05258bdadaa9",
        "colab": {
          "base_uri": "https://localhost:8080/",
          "height": 231
        }
      },
      "source": [
        "ri.stop_date.str.slice(0,4).value_counts(dropna=False)"
      ],
      "execution_count": 0,
      "outputs": [
        {
          "output_type": "execute_result",
          "data": {
            "text/plain": [
              "2012    10970\n",
              "2006    10639\n",
              "2007     9476\n",
              "2014     9228\n",
              "2008     8752\n",
              "2015     8599\n",
              "2011     8126\n",
              "2013     7924\n",
              "2009     7908\n",
              "2010     7561\n",
              "2005     2558\n",
              "Name: stop_date, dtype: int64"
            ]
          },
          "metadata": {
            "tags": []
          },
          "execution_count": 57
        }
      ]
    },
    {
      "cell_type": "code",
      "metadata": {
        "id": "6c2GfQ5rSTCr",
        "colab_type": "code",
        "outputId": "d3f8cec2-4418-447f-973d-5329ef7441b8",
        "colab": {
          "base_uri": "https://localhost:8080/",
          "height": 124
        }
      },
      "source": [
        "combined = ri.stop_date.str.cat(ri.stop_time, sep=' ')\n",
        "combined.head()"
      ],
      "execution_count": 0,
      "outputs": [
        {
          "output_type": "execute_result",
          "data": {
            "text/plain": [
              "0    2005-01-02 01:55\n",
              "1    2005-01-18 08:15\n",
              "2    2005-01-23 23:15\n",
              "3    2005-02-20 17:15\n",
              "4    2005-03-14 10:00\n",
              "Name: stop_date, dtype: object"
            ]
          },
          "metadata": {
            "tags": []
          },
          "execution_count": 59
        }
      ]
    },
    {
      "cell_type": "code",
      "metadata": {
        "id": "kjsrApswT_0B",
        "colab_type": "code",
        "colab": {}
      },
      "source": [
        "ri['stop_datetime'] = pd.to_datetime(combined)"
      ],
      "execution_count": 0,
      "outputs": []
    },
    {
      "cell_type": "code",
      "metadata": {
        "id": "b2PEKaTWUrqV",
        "colab_type": "code",
        "outputId": "1783df20-0e26-4a6a-c576-50e5c1a8e709",
        "colab": {
          "base_uri": "https://localhost:8080/",
          "height": 124
        }
      },
      "source": [
        "# the data type changed to datetime64\n",
        "ri.stop_datetime.head()"
      ],
      "execution_count": 0,
      "outputs": [
        {
          "output_type": "execute_result",
          "data": {
            "text/plain": [
              "0   2005-01-02 01:55:00\n",
              "1   2005-01-18 08:15:00\n",
              "2   2005-01-23 23:15:00\n",
              "3   2005-02-20 17:15:00\n",
              "4   2005-03-14 10:00:00\n",
              "Name: stop_datetime, dtype: datetime64[ns]"
            ]
          },
          "metadata": {
            "tags": []
          },
          "execution_count": 63
        }
      ]
    },
    {
      "cell_type": "code",
      "metadata": {
        "id": "Stcwrsg7UcvD",
        "colab_type": "code",
        "outputId": "834e0f7f-a5ba-416c-c964-269e41cfcc7d",
        "colab": {
          "base_uri": "https://localhost:8080/",
          "height": 231
        }
      },
      "source": [
        "ri.stop_datetime.dt.year.value_counts().sort_values()"
      ],
      "execution_count": 0,
      "outputs": [
        {
          "output_type": "execute_result",
          "data": {
            "text/plain": [
              "2005     2558\n",
              "2010     7561\n",
              "2009     7908\n",
              "2013     7924\n",
              "2011     8126\n",
              "2015     8599\n",
              "2008     8752\n",
              "2014     9228\n",
              "2007     9476\n",
              "2006    10639\n",
              "2012    10970\n",
              "Name: stop_datetime, dtype: int64"
            ]
          },
          "metadata": {
            "tags": []
          },
          "execution_count": 66
        }
      ]
    },
    {
      "cell_type": "code",
      "metadata": {
        "id": "NPlufoiBUk7V",
        "colab_type": "code",
        "outputId": "f6336e98-bbbb-46b1-d3ed-8c3cd93303dd",
        "colab": {
          "base_uri": "https://localhost:8080/",
          "height": 35
        }
      },
      "source": [
        "ri.stop_datetime.dt.year.value_counts().sort_values().index[0]"
      ],
      "execution_count": 0,
      "outputs": [
        {
          "output_type": "execute_result",
          "data": {
            "text/plain": [
              "2005"
            ]
          },
          "metadata": {
            "tags": []
          },
          "execution_count": 67
        }
      ]
    },
    {
      "cell_type": "code",
      "metadata": {
        "id": "qlfL77mSVx6d",
        "colab_type": "code",
        "outputId": "f1a4d4dd-839f-4921-d7b3-cb59e11a100b",
        "colab": {
          "base_uri": "https://localhost:8080/",
          "height": 35
        }
      },
      "source": [
        "# 7. How drug activity changes by time of day?\n",
        "ri.drugs_related_stop.mean()"
      ],
      "execution_count": 0,
      "outputs": [
        {
          "output_type": "execute_result",
          "data": {
            "text/plain": [
              "0.008883705213590434"
            ]
          },
          "metadata": {
            "tags": []
          },
          "execution_count": 70
        }
      ]
    },
    {
      "cell_type": "code",
      "metadata": {
        "id": "AIQT-VTpWP_w",
        "colab_type": "code",
        "outputId": "68e0441e-0a14-4c30-af6b-422467d59723",
        "colab": {
          "base_uri": "https://localhost:8080/",
          "height": 298
        }
      },
      "source": [
        "# for each hour, the rate of drugs related stop\n",
        "ri.groupby(ri.stop_datetime.dt.hour).drugs_related_stop.mean().plot()"
      ],
      "execution_count": 0,
      "outputs": [
        {
          "output_type": "execute_result",
          "data": {
            "text/plain": [
              "<matplotlib.axes._subplots.AxesSubplot at 0x7ff690585978>"
            ]
          },
          "metadata": {
            "tags": []
          },
          "execution_count": 71
        },
        {
          "output_type": "display_data",
          "data": {
            "image/png": "[encoded data removed]",
            "text/plain": [
              "<Figure size 432x288 with 1 Axes>"
            ]
          },
          "metadata": {
            "tags": []
          }
        }
      ]
    },
    {
      "cell_type": "code",
      "metadata": {
        "id": "t9p7bc7TW73Z",
        "colab_type": "code",
        "outputId": "3262b41e-dcdc-44bb-a5f4-6fd594033509",
        "colab": {
          "base_uri": "https://localhost:8080/",
          "height": 283
        }
      },
      "source": [
        "# 8. Do most stops occur at night?\n",
        "ri.stop_datetime.dt.hour.value_counts().sort_index().plot()\n"
      ],
      "execution_count": 0,
      "outputs": [
        {
          "output_type": "execute_result",
          "data": {
            "text/plain": [
              "<matplotlib.axes._subplots.AxesSubplot at 0x7ff690484240>"
            ]
          },
          "metadata": {
            "tags": []
          },
          "execution_count": 74
        },
        {
          "output_type": "display_data",
          "data": {
            "image/png": "[encoded data removed]",
            "text/plain": [
              "<Figure size 432x288 with 1 Axes>"
            ]
          },
          "metadata": {
            "tags": []
          }
        }
      ]
    },
    {
      "cell_type": "code",
      "metadata": {
        "id": "qnNM2Je9XW8a",
        "colab_type": "code",
        "outputId": "7d0ca297-fa13-4e9b-ad70-9cb3df76dbd7",
        "colab": {
          "base_uri": "https://localhost:8080/",
          "height": 124
        }
      },
      "source": [
        "# 9. Find the bad data in the stop_duration column and fix it\n",
        "ri.stop_duration.value_counts()"
      ],
      "execution_count": 0,
      "outputs": [
        {
          "output_type": "execute_result",
          "data": {
            "text/plain": [
              "0-15 Min     69543\n",
              "16-30 Min    13635\n",
              "30+ Min       3228\n",
              "1                1\n",
              "2                1\n",
              "Name: stop_duration, dtype: int64"
            ]
          },
          "metadata": {
            "tags": []
          },
          "execution_count": 75
        }
      ]
    },
    {
      "cell_type": "code",
      "metadata": {
        "id": "tzqwsd4bXfWg",
        "colab_type": "code",
        "colab": {}
      },
      "source": [
        "import numpy as np\n",
        "ri.loc[(ri.stop_duration == '1') | (ri.stop_duration == '2'),'stop_duration'] = np.nan"
      ],
      "execution_count": 0,
      "outputs": []
    },
    {
      "cell_type": "code",
      "metadata": {
        "id": "SKWn1pOwYLqC",
        "colab_type": "code",
        "outputId": "85e8d841-a635-471e-88cd-4324f81e89f1",
        "colab": {
          "base_uri": "https://localhost:8080/",
          "height": 88
        }
      },
      "source": [
        "ri.stop_duration.value_counts()"
      ],
      "execution_count": 0,
      "outputs": [
        {
          "output_type": "execute_result",
          "data": {
            "text/plain": [
              "0-15 Min     69543\n",
              "16-30 Min    13635\n",
              "30+ Min       3228\n",
              "Name: stop_duration, dtype: int64"
            ]
          },
          "metadata": {
            "tags": []
          },
          "execution_count": 83
        }
      ]
    }
  ]
}