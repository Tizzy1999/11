{
  "nbformat": 4,
  "nbformat_minor": 0,
  "metadata": {
    "colab": {
      "name": "knn_practice.ipynb",
      "provenance": [],
      "collapsed_sections": [],
      "include_colab_link": true
    },
    "kernelspec": {
      "name": "python3",
      "display_name": "Python 3"
    }
  },
  "cells": [
    {
      "cell_type": "markdown",
      "metadata": {
        "id": "view-in-github",
        "colab_type": "text"
      },
      "source": [
        "<a href=\"https://colab.research.google.com/github/Tizzy1999/ml2019/blob/master/knn_practice.ipynb\" target=\"_parent\"><img src=\"https://colab.research.google.com/assets/colab-badge.svg\" alt=\"Open In Colab\"/></a>"
      ]
    },
    {
      "cell_type": "markdown",
      "metadata": {
        "id": "whWiDjhciKlL",
        "colab_type": "text"
      },
      "source": [
        "#**KNN**\n",
        "**Algorithm**:\n",
        "\n",
        "\n",
        "1.   calcualte distance\n",
        "2.   find n nearest neighbors\n",
        "3.   vote for labels\n",
        "\n",
        "\n",
        "![alt text](https://res.cloudinary.com/dyd911kmh/image/upload/f_auto,q_auto:best/v1531424125/KNN_final1_ibdm8a.png)\n",
        "\n",
        "**Features of KNN**:\n",
        "* *non-parametric*: no assumption for underlying data distribution. In other words, the model structure determined from the dataset.\n",
        "* *lazy learning*: does not need any training data points for model generation. All training data used in testing phase. This makes trianing faster and testing phase slower and costlier."
      ]
    },
    {
      "cell_type": "code",
      "metadata": {
        "id": "fCN7WlE6qQ0Z",
        "colab_type": "code",
        "colab": {}
      },
      "source": [
        "# import scikit-learn dataset library\n",
        "from sklearn import datasets\n",
        "# load dataset\n",
        "wine = datasets.load_wine()"
      ],
      "execution_count": 0,
      "outputs": []
    },
    {
      "cell_type": "markdown",
      "metadata": {
        "id": "X6QQSXbb2bLk",
        "colab_type": "text"
      },
      "source": [
        "# **Dataset** #\n"
      ]
    },
    {
      "cell_type": "code",
      "metadata": {
        "id": "czqWzSVJql5k",
        "colab_type": "code",
        "outputId": "6282bf38-8b4b-45d0-fa6a-2140abc1ee29",
        "colab": {
          "base_uri": "https://localhost:8080/",
          "height": 54
        }
      },
      "source": [
        "# print the names of the features\n",
        "print(wine.feature_names)"
      ],
      "execution_count": 0,
      "outputs": [
        {
          "output_type": "stream",
          "text": [
            "['alcohol', 'malic_acid', 'ash', 'alcalinity_of_ash', 'magnesium', 'total_phenols', 'flavanoids', 'nonflavanoid_phenols', 'proanthocyanins', 'color_intensity', 'hue', 'od280/od315_of_diluted_wines', 'proline']\n"
          ],
          "name": "stdout"
        }
      ]
    },
    {
      "cell_type": "code",
      "metadata": {
        "id": "_b90IyApqzcB",
        "colab_type": "code",
        "outputId": "609293d1-9f28-4d12-c1ef-cb5905703a31",
        "colab": {
          "base_uri": "https://localhost:8080/",
          "height": 34
        }
      },
      "source": [
        "# print the label species\n",
        "print(wine.target_names)"
      ],
      "execution_count": 0,
      "outputs": [
        {
          "output_type": "stream",
          "text": [
            "['class_0' 'class_1' 'class_2']\n"
          ],
          "name": "stdout"
        }
      ]
    },
    {
      "cell_type": "code",
      "metadata": {
        "id": "aW9-5nhiq1ax",
        "colab_type": "code",
        "outputId": "49daf667-c0da-434f-bbea-611c078bbb65",
        "colab": {
          "base_uri": "https://localhost:8080/",
          "height": 187
        }
      },
      "source": [
        "# print the top 5 records of the wine data\n",
        "print(wine.data[:5])"
      ],
      "execution_count": 0,
      "outputs": [
        {
          "output_type": "stream",
          "text": [
            "[[1.423e+01 1.710e+00 2.430e+00 1.560e+01 1.270e+02 2.800e+00 3.060e+00\n",
            "  2.800e-01 2.290e+00 5.640e+00 1.040e+00 3.920e+00 1.065e+03]\n",
            " [1.320e+01 1.780e+00 2.140e+00 1.120e+01 1.000e+02 2.650e+00 2.760e+00\n",
            "  2.600e-01 1.280e+00 4.380e+00 1.050e+00 3.400e+00 1.050e+03]\n",
            " [1.316e+01 2.360e+00 2.670e+00 1.860e+01 1.010e+02 2.800e+00 3.240e+00\n",
            "  3.000e-01 2.810e+00 5.680e+00 1.030e+00 3.170e+00 1.185e+03]\n",
            " [1.437e+01 1.950e+00 2.500e+00 1.680e+01 1.130e+02 3.850e+00 3.490e+00\n",
            "  2.400e-01 2.180e+00 7.800e+00 8.600e-01 3.450e+00 1.480e+03]\n",
            " [1.324e+01 2.590e+00 2.870e+00 2.100e+01 1.180e+02 2.800e+00 2.690e+00\n",
            "  3.900e-01 1.820e+00 4.320e+00 1.040e+00 2.930e+00 7.350e+02]]\n"
          ],
          "name": "stdout"
        }
      ]
    },
    {
      "cell_type": "code",
      "metadata": {
        "id": "1pYf2u7yq7Ko",
        "colab_type": "code",
        "outputId": "476ff248-421c-4a29-deb1-36528f583a31",
        "colab": {
          "base_uri": "https://localhost:8080/",
          "height": 102
        }
      },
      "source": [
        "# print the labels (the value of the target)\n",
        "print(wine.target)"
      ],
      "execution_count": 0,
      "outputs": [
        {
          "output_type": "stream",
          "text": [
            "[0 0 0 0 0 0 0 0 0 0 0 0 0 0 0 0 0 0 0 0 0 0 0 0 0 0 0 0 0 0 0 0 0 0 0 0 0\n",
            " 0 0 0 0 0 0 0 0 0 0 0 0 0 0 0 0 0 0 0 0 0 0 1 1 1 1 1 1 1 1 1 1 1 1 1 1 1\n",
            " 1 1 1 1 1 1 1 1 1 1 1 1 1 1 1 1 1 1 1 1 1 1 1 1 1 1 1 1 1 1 1 1 1 1 1 1 1\n",
            " 1 1 1 1 1 1 1 1 1 1 1 1 1 1 1 1 1 1 1 2 2 2 2 2 2 2 2 2 2 2 2 2 2 2 2 2 2\n",
            " 2 2 2 2 2 2 2 2 2 2 2 2 2 2 2 2 2 2 2 2 2 2 2 2 2 2 2 2 2 2]\n"
          ],
          "name": "stdout"
        }
      ]
    },
    {
      "cell_type": "code",
      "metadata": {
        "id": "OfxoSGIkrBCQ",
        "colab_type": "code",
        "outputId": "783bc3c7-5b69-49fa-b1cb-8cf987717790",
        "colab": {
          "base_uri": "https://localhost:8080/",
          "height": 34
        }
      },
      "source": [
        "print(wine.data.shape)"
      ],
      "execution_count": 0,
      "outputs": [
        {
          "output_type": "stream",
          "text": [
            "(178, 13)\n"
          ],
          "name": "stdout"
        }
      ]
    },
    {
      "cell_type": "markdown",
      "metadata": {
        "id": "HMTBw79223sG",
        "colab_type": "text"
      },
      "source": [
        "#**Split Data**#"
      ]
    },
    {
      "cell_type": "code",
      "metadata": {
        "id": "M1o_eGO0rfCR",
        "colab_type": "code",
        "colab": {}
      },
      "source": [
        "# Split dataset into training set and test set\n",
        "from sklearn.model_selection import train_test_split\n",
        "X_train, X_test, y_train, y_test = train_test_split(wine.data, wine.target, test_size=0.3)\n",
        "# To compare the model performance before and after feature scaling, we keep a copy of original data without scaling\n",
        "X_train0, X_test0, y_train0, y_test0 = train_test_split(wine.data, wine.target, test_size=0.3)"
      ],
      "execution_count": 0,
      "outputs": []
    },
    {
      "cell_type": "markdown",
      "metadata": {
        "id": "jxzQ01DJ1iZV",
        "colab_type": "text"
      },
      "source": [
        "# **Feature Scaling**\n",
        "Scaling the features so that all of them can be uniformly evaluated.\n",
        "\n",
        "> Since the range of values of raw data varies widely, in some machine learning algorithms, objective functions will not work properly without normalization. For example, the majority of classifiers calculate the distance between two points by the Euclidean distance. If one of the features has a broad range of values, the distance will be governed by this particular feature. Therefore, the range of all features should be normalized so that each feature contributes approximately proportionately to the final distance.\n",
        "\n",
        "\n",
        "\n"
      ]
    },
    {
      "cell_type": "code",
      "metadata": {
        "id": "gmDsZTfIrDxH",
        "colab_type": "code",
        "outputId": "b2f02d60-69ce-42c6-f3b0-e3eb35108ee2",
        "colab": {
          "base_uri": "https://localhost:8080/",
          "height": 170
        }
      },
      "source": [
        "# Feature Scaling\n",
        "from sklearn.preprocessing import StandardScaler\n",
        "scaler = StandardScaler()\n",
        "scaler.fit(X_train)\n",
        "\n",
        "X_train = scaler.fit_transform(X_train)\n",
        "X_test = scaler.fit_transform(X_test)\n",
        "\n",
        "print(X_train[0:3])"
      ],
      "execution_count": 0,
      "outputs": [
        {
          "output_type": "stream",
          "text": [
            "[[-0.97880971 -0.78086672  0.61215671 -0.20720137  0.38541331 -0.62669301\n",
            "  -0.26397805  0.64640944 -1.03494109 -0.88429718  2.04359984 -0.54997831\n",
            "  -1.20234304]\n",
            " [-0.67891743 -0.63876072 -0.60236221  0.8089048   0.67244785 -0.45347938\n",
            "   0.070336   -0.24150846  0.02626454 -1.26576549  0.40340187  0.50611072\n",
            "  -1.23415649]\n",
            " [ 0.34071633  1.73263308 -0.35231419  0.08311468  1.53355146 -1.09909382\n",
            "  -1.30625125  0.48496983 -0.44944833  2.22316938 -1.57324696 -1.51926551\n",
            "   0.32470241]]\n"
          ],
          "name": "stdout"
        }
      ]
    },
    {
      "cell_type": "markdown",
      "metadata": {
        "id": "_mcYiHUh2-KF",
        "colab_type": "text"
      },
      "source": [
        "# **Building Model**"
      ]
    },
    {
      "cell_type": "code",
      "metadata": {
        "id": "_6DsZBdMsBYW",
        "colab_type": "code",
        "colab": {}
      },
      "source": [
        "# Build knearest neighbors Classifier model\n",
        "from sklearn.neighbors import KNeighborsClassifier\n",
        "# Train model based on scaled data\n",
        "knn = KNeighborsClassifier(n_neighbors=5 )\n",
        "knn.fit(X_train, y_train)\n",
        "y_pred = knn.predict(X_test)\n",
        "# Train model without scaling\n",
        "knn0 = KNeighborsClassifier(n_neighbors=5)\n",
        "knn0.fit(X_train0, y_train0)\n",
        "y_pred0 = knn0.predict(X_test0)"
      ],
      "execution_count": 0,
      "outputs": []
    },
    {
      "cell_type": "code",
      "metadata": {
        "id": "arhDWMLbsbX_",
        "colab_type": "code",
        "outputId": "795a6d83-bf59-4764-dfd5-ad3cfadb01ee",
        "colab": {
          "base_uri": "https://localhost:8080/",
          "height": 153
        }
      },
      "source": [
        "# Model Evaluation for k=5\n",
        "from sklearn import metrics\n",
        "from sklearn.metrics import confusion_matrix\n",
        "print(confusion_matrix(y_test, y_pred))\n",
        "print(\"Accuracy(with feature scaling):\",metrics.accuracy_score(y_test, y_pred))\n",
        "# Evaluate model based on data without feature scaling\n",
        "print(confusion_matrix(y_test0, y_pred0))\n",
        "print(\"Accuracy(without feature scaling):\",metrics.accuracy_score(y_test0, y_pred0))\n",
        "\n"
      ],
      "execution_count": 0,
      "outputs": [
        {
          "output_type": "stream",
          "text": [
            "[[20  1  0]\n",
            " [ 1 17  0]\n",
            " [ 0  0 15]]\n",
            "Accuracy(with feature scaling): 0.9629629629629629\n",
            "[[18  0  1]\n",
            " [ 2 12  7]\n",
            " [ 2  4  8]]\n",
            "Accuracy(without feature scaling): 0.7037037037037037\n"
          ],
          "name": "stdout"
        }
      ]
    },
    {
      "cell_type": "markdown",
      "metadata": {
        "id": "39BLDL_z3FcV",
        "colab_type": "text"
      },
      "source": [
        "# **Copare Error with K**"
      ]
    },
    {
      "cell_type": "code",
      "metadata": {
        "id": "lujIgMmltdeX",
        "colab_type": "code",
        "outputId": "4046954f-d555-4ae2-85c7-b00a685d8a7e",
        "colab": {
          "base_uri": "https://localhost:8080/",
          "height": 421
        }
      },
      "source": [
        "# Comparing Error Rate with the K value\n",
        "import numpy as np\n",
        "import matplotlib.pyplot as plt\n",
        "import pandas as pd\n",
        "error = []\n",
        "\n",
        "for i in range(1, 40):\n",
        "  knn = KNeighborsClassifier(n_neighbors=i)\n",
        "  knn.fit(X_train, y_train)\n",
        "  pred_i = knn.predict(X_test)\n",
        "  error.append(np.mean(pred_i!=y_test))\n",
        "\n",
        "plt.figure(figsize=(12, 6))\n",
        "plt.plot(range(1, 40), error, color='red', linestyle='dashed', marker='o',\n",
        "         markerfacecolor='blue', markersize=10)\n",
        "plt.title('Error Rate K Value')\n",
        "plt.xlabel('K Value')\n",
        "plt.ylabel('Mean Error')"
      ],
      "execution_count": 0,
      "outputs": [
        {
          "output_type": "execute_result",
          "data": {
            "text/plain": [
              "Text(0, 0.5, 'Mean Error')"
            ]
          },
          "metadata": {
            "tags": []
          },
          "execution_count": 22
        },
        {
          "output_type": "display_data",
          "data": {
            "image/png": "[encoded data removed]",
            "text/plain": [
              "<Figure size 864x432 with 1 Axes>"
            ]
          },
          "metadata": {
            "tags": []
          }
        }
      ]
    },
    {
      "cell_type": "code",
      "metadata": {
        "id": "D3aoFtggzLn2",
        "colab_type": "code",
        "colab": {}
      },
      "source": [
        ""
      ],
      "execution_count": 0,
      "outputs": []
    },
    {
      "cell_type": "markdown",
      "metadata": {
        "id": "nY_QTX4e3Lxo",
        "colab_type": "text"
      },
      "source": [
        "# **Pros**\n",
        "\n",
        "\n",
        "\n",
        "*   eager and lazy learner\n",
        "*   no need to train\n",
        "*   simple and instance-based learning algorithm\n",
        "\n",
        "# **Cons**\n",
        "\n",
        "* slower and costlier testing phase\n",
        "* require data scaling becasue KNN uses the Euclidean distance between two data points. And Euclidean distance is sensitive to magnitudes.\n",
        "* not suitable for large dimensional data\n",
        "\n",
        "\n"
      ]
    }
  ]
}