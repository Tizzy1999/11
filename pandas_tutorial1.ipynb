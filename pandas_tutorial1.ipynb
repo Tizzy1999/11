{
  "nbformat": 4,
  "nbformat_minor": 0,
  "metadata": {
    "colab": {
      "name": "pandas_tutorial1.ipynb",
      "provenance": [],
      "collapsed_sections": [],
      "include_colab_link": true
    },
    "kernelspec": {
      "name": "python3",
      "display_name": "Python 3"
    }
  },
  "cells": [
    {
      "cell_type": "markdown",
      "metadata": {
        "id": "view-in-github",
        "colab_type": "text"
      },
      "source": [
        "<a href=\"https://colab.research.google.com/github/Tizzy1999/ml2019/blob/master/pandas_tutorial1.ipynb\" target=\"_parent\"><img src=\"https://colab.research.google.com/assets/colab-badge.svg\" alt=\"Open In Colab\"/></a>"
      ]
    },
    {
      "cell_type": "code",
      "metadata": {
        "id": "EMKhDmFWMlVR",
        "colab_type": "code",
        "outputId": "06db74f5-10c8-4f7d-ed54-9bae6b87e039",
        "colab": {
          "base_uri": "https://localhost:8080/",
          "height": 126
        }
      },
      "source": [
        "from google.colab import drive\n",
        "drive.mount('/content/gdrive')"
      ],
      "execution_count": 0,
      "outputs": [
        {
          "output_type": "stream",
          "text": [
            "Go to this URL in a browser: https://accounts.google.com/o/oauth2/auth?client_id=947318989803-6bn6qk8qdgf4n4g3pfee6491hc0brc4i.apps.googleusercontent.com&redirect_uri=urn%3aietf%3awg%3aoauth%3a2.0%3aoob&response_type=code&scope=email%20https%3a%2f%2fwww.googleapis.com%2fauth%2fdocs.test%20https%3a%2f%2fwww.googleapis.com%2fauth%2fdrive%20https%3a%2f%2fwww.googleapis.com%2fauth%2fdrive.photos.readonly%20https%3a%2f%2fwww.googleapis.com%2fauth%2fpeopleapi.readonly\n",
            "\n",
            "Enter your authorization code:\n",
            "··········\n",
            "Mounted at /content/gdrive\n"
          ],
          "name": "stdout"
        }
      ]
    },
    {
      "cell_type": "code",
      "metadata": {
        "id": "6URbJaceMpmv",
        "colab_type": "code",
        "colab": {}
      },
      "source": [
        "import pandas as pd\n",
        "import matplotlib.pyplot as plt"
      ],
      "execution_count": 0,
      "outputs": []
    },
    {
      "cell_type": "code",
      "metadata": {
        "id": "xY5_4a54NFKC",
        "colab_type": "code",
        "colab": {}
      },
      "source": [
        "%matplotlib inline"
      ],
      "execution_count": 0,
      "outputs": []
    },
    {
      "cell_type": "markdown",
      "metadata": {
        "id": "rKIOKKM6NJNK",
        "colab_type": "text"
      },
      "source": [
        "## **Dataset 1: Standford Open Policing Project**\n"
      ]
    },
    {
      "cell_type": "code",
      "metadata": {
        "id": "eQUXksB6Ne9K",
        "colab_type": "code",
        "colab": {}
      },
      "source": [
        "ri = pd.read_csv('/content/gdrive/My Drive/201911ML/police.txt')"
      ],
      "execution_count": 0,
      "outputs": []
    },
    {
      "cell_type": "code",
      "metadata": {
        "id": "A8JwcBv6NySq",
        "colab_type": "code",
        "outputId": "34b95224-1a70-4281-9d5c-977a6aa07c18",
        "colab": {
          "base_uri": "https://localhost:8080/",
          "height": 306
        }
      },
      "source": [
        "ri.head()\n",
        "# NaN: not a number, missing value in pandas\n",
        "# what's the point of NaN?\n",
        "# you want to distinguish missing data from real data\n",
        "# I think missing data shoundn't be included in the data analysis most of the time"
      ],
      "execution_count": 0,
      "outputs": [
        {
          "output_type": "execute_result",
          "data": {
            "text/html": [
              "<div>\n",
              "<style scoped>\n",
              "    .dataframe tbody tr th:only-of-type {\n",
              "        vertical-align: middle;\n",
              "    }\n",
              "\n",
              "    .dataframe tbody tr th {\n",
              "        vertical-align: top;\n",
              "    }\n",
              "\n",
              "    .dataframe thead th {\n",
              "        text-align: right;\n",
              "    }\n",
              "</style>\n",
              "<table border=\"1\" class=\"dataframe\">\n",
              "  <thead>\n",
              "    <tr style=\"text-align: right;\">\n",
              "      <th></th>\n",
              "      <th>stop_date</th>\n",
              "      <th>stop_time</th>\n",
              "      <th>county_name</th>\n",
              "      <th>driver_gender</th>\n",
              "      <th>driver_age_raw</th>\n",
              "      <th>driver_age</th>\n",
              "      <th>driver_race</th>\n",
              "      <th>violation_raw</th>\n",
              "      <th>violation</th>\n",
              "      <th>search_conducted</th>\n",
              "      <th>search_type</th>\n",
              "      <th>stop_outcome</th>\n",
              "      <th>is_arrested</th>\n",
              "      <th>stop_duration</th>\n",
              "      <th>drugs_related_stop</th>\n",
              "    </tr>\n",
              "  </thead>\n",
              "  <tbody>\n",
              "    <tr>\n",
              "      <th>0</th>\n",
              "      <td>2005-01-02</td>\n",
              "      <td>01:55</td>\n",
              "      <td>NaN</td>\n",
              "      <td>M</td>\n",
              "      <td>1985.0</td>\n",
              "      <td>20.0</td>\n",
              "      <td>White</td>\n",
              "      <td>Speeding</td>\n",
              "      <td>Speeding</td>\n",
              "      <td>False</td>\n",
              "      <td>NaN</td>\n",
              "      <td>Citation</td>\n",
              "      <td>False</td>\n",
              "      <td>0-15 Min</td>\n",
              "      <td>False</td>\n",
              "    </tr>\n",
              "    <tr>\n",
              "      <th>1</th>\n",
              "      <td>2005-01-18</td>\n",
              "      <td>08:15</td>\n",
              "      <td>NaN</td>\n",
              "      <td>M</td>\n",
              "      <td>1965.0</td>\n",
              "      <td>40.0</td>\n",
              "      <td>White</td>\n",
              "      <td>Speeding</td>\n",
              "      <td>Speeding</td>\n",
              "      <td>False</td>\n",
              "      <td>NaN</td>\n",
              "      <td>Citation</td>\n",
              "      <td>False</td>\n",
              "      <td>0-15 Min</td>\n",
              "      <td>False</td>\n",
              "    </tr>\n",
              "    <tr>\n",
              "      <th>2</th>\n",
              "      <td>2005-01-23</td>\n",
              "      <td>23:15</td>\n",
              "      <td>NaN</td>\n",
              "      <td>M</td>\n",
              "      <td>1972.0</td>\n",
              "      <td>33.0</td>\n",
              "      <td>White</td>\n",
              "      <td>Speeding</td>\n",
              "      <td>Speeding</td>\n",
              "      <td>False</td>\n",
              "      <td>NaN</td>\n",
              "      <td>Citation</td>\n",
              "      <td>False</td>\n",
              "      <td>0-15 Min</td>\n",
              "      <td>False</td>\n",
              "    </tr>\n",
              "    <tr>\n",
              "      <th>3</th>\n",
              "      <td>2005-02-20</td>\n",
              "      <td>17:15</td>\n",
              "      <td>NaN</td>\n",
              "      <td>M</td>\n",
              "      <td>1986.0</td>\n",
              "      <td>19.0</td>\n",
              "      <td>White</td>\n",
              "      <td>Call for Service</td>\n",
              "      <td>Other</td>\n",
              "      <td>False</td>\n",
              "      <td>NaN</td>\n",
              "      <td>Arrest Driver</td>\n",
              "      <td>True</td>\n",
              "      <td>16-30 Min</td>\n",
              "      <td>False</td>\n",
              "    </tr>\n",
              "    <tr>\n",
              "      <th>4</th>\n",
              "      <td>2005-03-14</td>\n",
              "      <td>10:00</td>\n",
              "      <td>NaN</td>\n",
              "      <td>F</td>\n",
              "      <td>1984.0</td>\n",
              "      <td>21.0</td>\n",
              "      <td>White</td>\n",
              "      <td>Speeding</td>\n",
              "      <td>Speeding</td>\n",
              "      <td>False</td>\n",
              "      <td>NaN</td>\n",
              "      <td>Citation</td>\n",
              "      <td>False</td>\n",
              "      <td>0-15 Min</td>\n",
              "      <td>False</td>\n",
              "    </tr>\n",
              "  </tbody>\n",
              "</table>\n",
              "</div>"
            ],
            "text/plain": [
              "    stop_date stop_time  ...  stop_duration drugs_related_stop\n",
              "0  2005-01-02     01:55  ...       0-15 Min              False\n",
              "1  2005-01-18     08:15  ...       0-15 Min              False\n",
              "2  2005-01-23     23:15  ...       0-15 Min              False\n",
              "3  2005-02-20     17:15  ...      16-30 Min              False\n",
              "4  2005-03-14     10:00  ...       0-15 Min              False\n",
              "\n",
              "[5 rows x 15 columns]"
            ]
          },
          "metadata": {
            "tags": []
          },
          "execution_count": 5
        }
      ]
    },
    {
      "cell_type": "code",
      "metadata": {
        "id": "Ml5rNQWhNz67",
        "colab_type": "code",
        "outputId": "a9039af9-05a5-4f82-8d2a-4465f4bb25c7",
        "colab": {
          "base_uri": "https://localhost:8080/",
          "height": 35
        }
      },
      "source": [
        "ri.shape"
      ],
      "execution_count": 0,
      "outputs": [
        {
          "output_type": "execute_result",
          "data": {
            "text/plain": [
              "(91741, 15)"
            ]
          },
          "metadata": {
            "tags": []
          },
          "execution_count": 6
        }
      ]
    },
    {
      "cell_type": "code",
      "metadata": {
        "id": "NmQsusaKN5Ib",
        "colab_type": "code",
        "outputId": "ce46fd01-ea4a-4f47-97fc-5e857afbf554",
        "colab": {
          "base_uri": "https://localhost:8080/",
          "height": 303
        }
      },
      "source": [
        "ri.dtypes"
      ],
      "execution_count": 0,
      "outputs": [
        {
          "output_type": "execute_result",
          "data": {
            "text/plain": [
              "stop_date              object\n",
              "stop_time              object\n",
              "county_name           float64\n",
              "driver_gender          object\n",
              "driver_age_raw        float64\n",
              "driver_age            float64\n",
              "driver_race            object\n",
              "violation_raw          object\n",
              "violation              object\n",
              "search_conducted         bool\n",
              "search_type            object\n",
              "stop_outcome           object\n",
              "is_arrested            object\n",
              "stop_duration          object\n",
              "drugs_related_stop       bool\n",
              "dtype: object"
            ]
          },
          "metadata": {
            "tags": []
          },
          "execution_count": 7
        }
      ]
    },
    {
      "cell_type": "code",
      "metadata": {
        "id": "DuHKhMYpN8_7",
        "colab_type": "code",
        "outputId": "71de0eb4-6592-468c-8b80-5b9374fab22d",
        "colab": {
          "base_uri": "https://localhost:8080/",
          "height": 303
        }
      },
      "source": [
        "ri.isnull().sum()\n",
        "# the count of missing data in each of the column\n",
        "# there're two steps in this process\n",
        "# first ri.isnull() you can all the boolean values in each cell\n",
        "# then since Flase == 0 and True == 1\n",
        "# you just need to sum the whole column\n",
        "# then you can get the count of missing value in each column"
      ],
      "execution_count": 0,
      "outputs": [
        {
          "output_type": "execute_result",
          "data": {
            "text/plain": [
              "stop_date                 0\n",
              "stop_time                 0\n",
              "county_name           91741\n",
              "driver_gender          5335\n",
              "driver_age_raw         5327\n",
              "driver_age             5621\n",
              "driver_race            5333\n",
              "violation_raw          5333\n",
              "violation              5333\n",
              "search_conducted          0\n",
              "search_type           88545\n",
              "stop_outcome           5333\n",
              "is_arrested            5333\n",
              "stop_duration          5333\n",
              "drugs_related_stop        0\n",
              "dtype: int64"
            ]
          },
          "metadata": {
            "tags": []
          },
          "execution_count": 8
        }
      ]
    },
    {
      "cell_type": "markdown",
      "metadata": {
        "id": "Lnu75juAO-JL",
        "colab_type": "text"
      },
      "source": [
        "## **1.Remove the column that only contains missing values**\n"
      ]
    },
    {
      "cell_type": "code",
      "metadata": {
        "id": "LofbDb-4PvpR",
        "colab_type": "code",
        "colab": {}
      },
      "source": [
        "ri.drop('county_name',axis='columns',inplace=True)\n",
        "# ri.dropna(axis='columns', how='all)"
      ],
      "execution_count": 0,
      "outputs": []
    },
    {
      "cell_type": "markdown",
      "metadata": {
        "id": "0MOt25GWSHEq",
        "colab_type": "text"
      },
      "source": [
        "##**2.Do man or woman speed more often?**\n",
        "\n",
        "* driver_gender\n",
        "* violation"
      ]
    },
    {
      "cell_type": "code",
      "metadata": {
        "id": "DoyBd3TISqbN",
        "colab_type": "code",
        "outputId": "9bcdcea4-e49b-4d5d-8f48-5a92b48ce6c5",
        "colab": {
          "base_uri": "https://localhost:8080/",
          "height": 71
        }
      },
      "source": [
        " ri[ri.violation == 'Speeding'].driver_gender.value_counts(normalize=True)"
      ],
      "execution_count": 0,
      "outputs": [
        {
          "output_type": "execute_result",
          "data": {
            "text/plain": [
              "M    0.680527\n",
              "F    0.319473\n",
              "Name: driver_gender, dtype: float64"
            ]
          },
          "metadata": {
            "tags": []
          },
          "execution_count": 10
        }
      ]
    },
    {
      "cell_type": "code",
      "metadata": {
        "id": "apqCovoOTc57",
        "colab_type": "code",
        "outputId": "e5873e46-70b7-4923-d0c1-d094529a6e43",
        "colab": {
          "base_uri": "https://localhost:8080/",
          "height": 142
        }
      },
      "source": [
        "ri[ri.driver_gender == 'M'].violation.value_counts(normalize=True)"
      ],
      "execution_count": 0,
      "outputs": [
        {
          "output_type": "execute_result",
          "data": {
            "text/plain": [
              "Speeding               0.524350\n",
              "Moving violation       0.207012\n",
              "Equipment              0.135671\n",
              "Other                  0.057668\n",
              "Registration/plates    0.038461\n",
              "Seat belt              0.036839\n",
              "Name: violation, dtype: float64"
            ]
          },
          "metadata": {
            "tags": []
          },
          "execution_count": 11
        }
      ]
    },
    {
      "cell_type": "code",
      "metadata": {
        "id": "0UqwuIsTTsNr",
        "colab_type": "code",
        "outputId": "5ec47677-5f58-4b2b-f92f-7be29f9c50c4",
        "colab": {
          "base_uri": "https://localhost:8080/",
          "height": 142
        }
      },
      "source": [
        "ri[ri.driver_gender == 'F'].violation.value_counts(normalize=True)"
      ],
      "execution_count": 0,
      "outputs": [
        {
          "output_type": "execute_result",
          "data": {
            "text/plain": [
              "Speeding               0.658500\n",
              "Moving violation       0.136277\n",
              "Equipment              0.105780\n",
              "Registration/plates    0.043086\n",
              "Other                  0.029348\n",
              "Seat belt              0.027009\n",
              "Name: violation, dtype: float64"
            ]
          },
          "metadata": {
            "tags": []
          },
          "execution_count": 12
        }
      ]
    },
    {
      "cell_type": "code",
      "metadata": {
        "id": "gQ-VB521UAEM",
        "colab_type": "code",
        "outputId": "f52a7d76-3862-40ec-d0da-e138d6ed8630",
        "colab": {
          "base_uri": "https://localhost:8080/",
          "height": 267
        }
      },
      "source": [
        "ri.groupby('driver_gender').violation.value_counts(normalize=True)"
      ],
      "execution_count": 0,
      "outputs": [
        {
          "output_type": "execute_result",
          "data": {
            "text/plain": [
              "driver_gender  violation          \n",
              "F              Speeding               0.658500\n",
              "               Moving violation       0.136277\n",
              "               Equipment              0.105780\n",
              "               Registration/plates    0.043086\n",
              "               Other                  0.029348\n",
              "               Seat belt              0.027009\n",
              "M              Speeding               0.524350\n",
              "               Moving violation       0.207012\n",
              "               Equipment              0.135671\n",
              "               Other                  0.057668\n",
              "               Registration/plates    0.038461\n",
              "               Seat belt              0.036839\n",
              "Name: violation, dtype: float64"
            ]
          },
          "metadata": {
            "tags": []
          },
          "execution_count": 13
        }
      ]
    },
    {
      "cell_type": "code",
      "metadata": {
        "id": "-_0keBKoUfoL",
        "colab_type": "code",
        "outputId": "2b291b4e-1493-43d6-83e3-00b7034ac18d",
        "colab": {
          "base_uri": "https://localhost:8080/",
          "height": 88
        }
      },
      "source": [
        "ri.groupby('driver_gender').violation.value_counts(normalize=True).loc[:,'Speeding']"
      ],
      "execution_count": 0,
      "outputs": [
        {
          "output_type": "execute_result",
          "data": {
            "text/plain": [
              "driver_gender\n",
              "F    0.65850\n",
              "M    0.52435\n",
              "Name: violation, dtype: float64"
            ]
          },
          "metadata": {
            "tags": []
          },
          "execution_count": 14
        }
      ]
    },
    {
      "cell_type": "markdown",
      "metadata": {
        "id": "5GRX1uMxUvps",
        "colab_type": "text"
      },
      "source": [
        "##**3. Does gender affect who gets searched during a stop?**\n",
        "* driver_gender\n",
        "* search_conducted"
      ]
    },
    {
      "cell_type": "code",
      "metadata": {
        "id": "RuKauZuIVgJc",
        "colab_type": "code",
        "outputId": "8fb5a07e-a880-48dd-96cb-0b5711e0e65f",
        "colab": {
          "base_uri": "https://localhost:8080/",
          "height": 71
        }
      },
      "source": [
        "ri.search_conducted.value_counts(normalize=True)"
      ],
      "execution_count": 0,
      "outputs": [
        {
          "output_type": "execute_result",
          "data": {
            "text/plain": [
              "False    0.965163\n",
              "True     0.034837\n",
              "Name: search_conducted, dtype: float64"
            ]
          },
          "metadata": {
            "tags": []
          },
          "execution_count": 15
        }
      ]
    },
    {
      "cell_type": "code",
      "metadata": {
        "id": "SSNezUJzVze6",
        "colab_type": "code",
        "outputId": "4c507937-82a4-4c98-904a-1011aac81cf3",
        "colab": {
          "base_uri": "https://localhost:8080/",
          "height": 35
        }
      },
      "source": [
        "# neat trick: this actually gives you the percentage of True(=1) for the column\n",
        "# which is the percentage of the search conducted \n",
        "ri.search_conducted.mean()"
      ],
      "execution_count": 0,
      "outputs": [
        {
          "output_type": "execute_result",
          "data": {
            "text/plain": [
              "0.03483720473942948"
            ]
          },
          "metadata": {
            "tags": []
          },
          "execution_count": 16
        }
      ]
    },
    {
      "cell_type": "code",
      "metadata": {
        "id": "lzGB0sciU-5r",
        "colab_type": "code",
        "outputId": "3b848e58-10f5-4832-98e5-27993effb79a",
        "colab": {
          "base_uri": "https://localhost:8080/",
          "height": 88
        }
      },
      "source": [
        "# groupby: for each gender\n",
        "ri.groupby('driver_gender').search_conducted.mean()\n",
        "# it depends on for what reasons they are pulled over\n",
        "# hypothetically, \n",
        "# when people are pulled over for seatbelt violation\n",
        "# they are rarely searched\n",
        "# when they are pulled over for registration violations\n",
        "# they are often searched\n",
        "# so, it could be that search rate is tied to violation\n",
        "# and man commit more registration violations \n",
        "# and woman commit more seatbelt violations\n",
        "# in this case, gender is actually irrelevant to why there's a difference"
      ],
      "execution_count": 0,
      "outputs": [
        {
          "output_type": "execute_result",
          "data": {
            "text/plain": [
              "driver_gender\n",
              "F    0.020033\n",
              "M    0.043326\n",
              "Name: search_conducted, dtype: float64"
            ]
          },
          "metadata": {
            "tags": []
          },
          "execution_count": 17
        }
      ]
    },
    {
      "cell_type": "code",
      "metadata": {
        "id": "h_FEUcjkX5EC",
        "colab_type": "code",
        "outputId": "ade05505-ecbc-4928-ad97-c8696d136646",
        "colab": {
          "base_uri": "https://localhost:8080/",
          "height": 267
        }
      },
      "source": [
        "ri.groupby(['violation','driver_gender']).search_conducted.mean()\n",
        "# male actually gets a higher search rate for every violation"
      ],
      "execution_count": 0,
      "outputs": [
        {
          "output_type": "execute_result",
          "data": {
            "text/plain": [
              "violation            driver_gender\n",
              "Equipment            F                0.042622\n",
              "                     M                0.070081\n",
              "Moving violation     F                0.036205\n",
              "                     M                0.059831\n",
              "Other                F                0.056522\n",
              "                     M                0.047146\n",
              "Registration/plates  F                0.066140\n",
              "                     M                0.110376\n",
              "Seat belt            F                0.012598\n",
              "                     M                0.037980\n",
              "Speeding             F                0.008720\n",
              "                     M                0.024925\n",
              "Name: search_conducted, dtype: float64"
            ]
          },
          "metadata": {
            "tags": []
          },
          "execution_count": 18
        }
      ]
    },
    {
      "cell_type": "markdown",
      "metadata": {
        "id": "2S9Y6hpaYjL5",
        "colab_type": "text"
      },
      "source": [
        "## **4. Why's search type missing so often?**"
      ]
    },
    {
      "cell_type": "code",
      "metadata": {
        "id": "qH3AtMEnZSOL",
        "colab_type": "code",
        "outputId": "5e10e294-dd07-4444-d7f8-7fa689cb219f",
        "colab": {
          "base_uri": "https://localhost:8080/",
          "height": 285
        }
      },
      "source": [
        "ri.isnull().sum()"
      ],
      "execution_count": 0,
      "outputs": [
        {
          "output_type": "execute_result",
          "data": {
            "text/plain": [
              "stop_date                 0\n",
              "stop_time                 0\n",
              "driver_gender          5335\n",
              "driver_age_raw         5327\n",
              "driver_age             5621\n",
              "driver_race            5333\n",
              "violation_raw          5333\n",
              "violation              5333\n",
              "search_conducted          0\n",
              "search_type           88545\n",
              "stop_outcome           5333\n",
              "is_arrested            5333\n",
              "stop_duration          5333\n",
              "drugs_related_stop        0\n",
              "dtype: int64"
            ]
          },
          "metadata": {
            "tags": []
          },
          "execution_count": 19
        }
      ]
    },
    {
      "cell_type": "code",
      "metadata": {
        "id": "mh_sVSxAZZXL",
        "colab_type": "code",
        "outputId": "dac02f6e-3829-42ff-a3c3-0fdbeecc5a1d",
        "colab": {
          "base_uri": "https://localhost:8080/",
          "height": 71
        }
      },
      "source": [
        "ri.search_conducted.value_counts()\n",
        "# so, because it depends on how many search is conducted"
      ],
      "execution_count": 0,
      "outputs": [
        {
          "output_type": "execute_result",
          "data": {
            "text/plain": [
              "False    88545\n",
              "True      3196\n",
              "Name: search_conducted, dtype: int64"
            ]
          },
          "metadata": {
            "tags": []
          },
          "execution_count": 20
        }
      ]
    },
    {
      "cell_type": "code",
      "metadata": {
        "id": "tjznAiDTaTc7",
        "colab_type": "code",
        "outputId": "6264a86a-a55d-445d-d550-df42248e2ab6",
        "colab": {
          "base_uri": "https://localhost:8080/",
          "height": 35
        }
      },
      "source": [
        "ri[ri.search_conducted == False].search_type.value_counts()\n",
        "# you get an empty series, since there's no search type \n",
        "# for a search that's never conducted in the first place\n",
        "# the search type is always NaN, so there's no values to count\n",
        "# since the value_counts() method actually drops null values"
      ],
      "execution_count": 0,
      "outputs": [
        {
          "output_type": "execute_result",
          "data": {
            "text/plain": [
              "Series([], Name: search_type, dtype: int64)"
            ]
          },
          "metadata": {
            "tags": []
          },
          "execution_count": 21
        }
      ]
    },
    {
      "cell_type": "code",
      "metadata": {
        "id": "m_OmIf-VfVdi",
        "colab_type": "code",
        "outputId": "4c6e0f39-8115-4026-bb0c-e01d98fe7e1a",
        "colab": {
          "base_uri": "https://localhost:8080/",
          "height": 53
        }
      },
      "source": [
        "# disable value_counts() method to drop null values\n",
        "ri[ri.search_conducted == False].search_type.value_counts(dropna = False)"
      ],
      "execution_count": 0,
      "outputs": [
        {
          "output_type": "execute_result",
          "data": {
            "text/plain": [
              "NaN    88545\n",
              "Name: search_type, dtype: int64"
            ]
          },
          "metadata": {
            "tags": []
          },
          "execution_count": 22
        }
      ]
    },
    {
      "cell_type": "code",
      "metadata": {
        "id": "gpe0GNvmfsyM",
        "colab_type": "code",
        "outputId": "5094a457-9ca5-44bf-dc2f-c6940abc1d67",
        "colab": {
          "base_uri": "https://localhost:8080/",
          "height": 481
        }
      },
      "source": [
        "ri.search_type.value_counts(dropna=False)"
      ],
      "execution_count": 0,
      "outputs": [
        {
          "output_type": "execute_result",
          "data": {
            "text/plain": [
              "NaN                                                         88545\n",
              "Incident to Arrest                                           1219\n",
              "Probable Cause                                                891\n",
              "Inventory                                                     220\n",
              "Reasonable Suspicion                                          197\n",
              "Protective Frisk                                              161\n",
              "Incident to Arrest,Inventory                                  129\n",
              "Incident to Arrest,Probable Cause                             106\n",
              "Probable Cause,Reasonable Suspicion                            75\n",
              "Incident to Arrest,Inventory,Probable Cause                    34\n",
              "Probable Cause,Protective Frisk                                33\n",
              "Incident to Arrest,Protective Frisk                            33\n",
              "Inventory,Probable Cause                                       22\n",
              "Incident to Arrest,Reasonable Suspicion                        13\n",
              "Incident to Arrest,Inventory,Protective Frisk                  11\n",
              "Inventory,Protective Frisk                                     11\n",
              "Protective Frisk,Reasonable Suspicion                          11\n",
              "Incident to Arrest,Probable Cause,Protective Frisk             10\n",
              "Incident to Arrest,Probable Cause,Reasonable Suspicion          6\n",
              "Inventory,Reasonable Suspicion                                  4\n",
              "Incident to Arrest,Inventory,Reasonable Suspicion               4\n",
              "Inventory,Probable Cause,Protective Frisk                       2\n",
              "Inventory,Probable Cause,Reasonable Suspicion                   2\n",
              "Probable Cause,Protective Frisk,Reasonable Suspicion            1\n",
              "Incident to Arrest,Protective Frisk,Reasonable Suspicion        1\n",
              "Name: search_type, dtype: int64"
            ]
          },
          "metadata": {
            "tags": []
          },
          "execution_count": 23
        }
      ]
    },
    {
      "cell_type": "code",
      "metadata": {
        "id": "SCLbSWEbZi_b",
        "colab_type": "code",
        "outputId": "c18aba0b-1975-44ef-bb36-6ad358b7bca7",
        "colab": {
          "base_uri": "https://localhost:8080/",
          "height": 464
        }
      },
      "source": [
        "ri.search_type.value_counts()"
      ],
      "execution_count": 0,
      "outputs": [
        {
          "output_type": "execute_result",
          "data": {
            "text/plain": [
              "Incident to Arrest                                          1219\n",
              "Probable Cause                                               891\n",
              "Inventory                                                    220\n",
              "Reasonable Suspicion                                         197\n",
              "Protective Frisk                                             161\n",
              "Incident to Arrest,Inventory                                 129\n",
              "Incident to Arrest,Probable Cause                            106\n",
              "Probable Cause,Reasonable Suspicion                           75\n",
              "Incident to Arrest,Inventory,Probable Cause                   34\n",
              "Probable Cause,Protective Frisk                               33\n",
              "Incident to Arrest,Protective Frisk                           33\n",
              "Inventory,Probable Cause                                      22\n",
              "Incident to Arrest,Reasonable Suspicion                       13\n",
              "Incident to Arrest,Inventory,Protective Frisk                 11\n",
              "Inventory,Protective Frisk                                    11\n",
              "Protective Frisk,Reasonable Suspicion                         11\n",
              "Incident to Arrest,Probable Cause,Protective Frisk            10\n",
              "Incident to Arrest,Probable Cause,Reasonable Suspicion         6\n",
              "Inventory,Reasonable Suspicion                                 4\n",
              "Incident to Arrest,Inventory,Reasonable Suspicion              4\n",
              "Inventory,Probable Cause,Protective Frisk                      2\n",
              "Inventory,Probable Cause,Reasonable Suspicion                  2\n",
              "Probable Cause,Protective Frisk,Reasonable Suspicion           1\n",
              "Incident to Arrest,Protective Frisk,Reasonable Suspicion       1\n",
              "Name: search_type, dtype: int64"
            ]
          },
          "metadata": {
            "tags": []
          },
          "execution_count": 24
        }
      ]
    },
    {
      "cell_type": "markdown",
      "metadata": {
        "id": "Twjc5MrwaPZt",
        "colab_type": "text"
      },
      "source": [
        "## **5. During a search, how often is the driver frisked?**"
      ]
    },
    {
      "cell_type": "code",
      "metadata": {
        "id": "yO4amX9ogHxp",
        "colab_type": "code",
        "colab": {}
      },
      "source": [
        "# add anothee frisk column\n",
        " ri['frisk'] = ri.search_type.str.contains('Protective Frisk')"
      ],
      "execution_count": 0,
      "outputs": []
    },
    {
      "cell_type": "code",
      "metadata": {
        "id": "MRtnD_L2g8_-",
        "colab_type": "code",
        "outputId": "20eebd21-c207-4015-f4b8-ac69154e4627",
        "colab": {
          "base_uri": "https://localhost:8080/",
          "height": 88
        }
      },
      "source": [
        "# by default: pandas calculations ignore missing values\n",
        "ri.frisk.value_counts(dropna=False)"
      ],
      "execution_count": 0,
      "outputs": [
        {
          "output_type": "execute_result",
          "data": {
            "text/plain": [
              "NaN      88545\n",
              "False     2922\n",
              "True       274\n",
              "Name: frisk, dtype: int64"
            ]
          },
          "metadata": {
            "tags": []
          },
          "execution_count": 26
        }
      ]
    },
    {
      "cell_type": "code",
      "metadata": {
        "id": "jJLkiroihHir",
        "colab_type": "code",
        "outputId": "19315642-55c4-49f0-f85f-dbdbabe26751",
        "colab": {
          "base_uri": "https://localhost:8080/",
          "height": 35
        }
      },
      "source": [
        "# the sum of the true values\n",
        "ri.frisk.sum()"
      ],
      "execution_count": 0,
      "outputs": [
        {
          "output_type": "execute_result",
          "data": {
            "text/plain": [
              "274"
            ]
          },
          "metadata": {
            "tags": []
          },
          "execution_count": 27
        }
      ]
    },
    {
      "cell_type": "code",
      "metadata": {
        "id": "8y8BPScuhVr8",
        "colab_type": "code",
        "outputId": "cb88220f-0332-4ac5-9e8c-ee3dcc8fb4c9",
        "colab": {
          "base_uri": "https://localhost:8080/",
          "height": 35
        }
      },
      "source": [
        "# during a search, how often are they frisk\n",
        "ri.frisk.mean()"
      ],
      "execution_count": 0,
      "outputs": [
        {
          "output_type": "execute_result",
          "data": {
            "text/plain": [
              "0.08573216520650813"
            ]
          },
          "metadata": {
            "tags": []
          },
          "execution_count": 28
        }
      ]
    },
    {
      "cell_type": "markdown",
      "metadata": {
        "id": "fDc3T3rgh6_6",
        "colab_type": "text"
      },
      "source": [
        "##**6. Which year has the least number of stops?**"
      ]
    },
    {
      "cell_type": "code",
      "metadata": {
        "id": "jvhgFu28iAEs",
        "colab_type": "code",
        "outputId": "760d0d74-b106-41a9-85f7-5e9f84ae6093",
        "colab": {
          "base_uri": "https://localhost:8080/",
          "height": 231
        }
      },
      "source": [
        "ri.stop_date.str.slice(0,4).value_counts()"
      ],
      "execution_count": 0,
      "outputs": [
        {
          "output_type": "execute_result",
          "data": {
            "text/plain": [
              "2012    10970\n",
              "2006    10639\n",
              "2007     9476\n",
              "2014     9228\n",
              "2008     8752\n",
              "2015     8599\n",
              "2011     8126\n",
              "2013     7924\n",
              "2009     7908\n",
              "2010     7561\n",
              "2005     2558\n",
              "Name: stop_date, dtype: int64"
            ]
          },
          "metadata": {
            "tags": []
          },
          "execution_count": 29
        }
      ]
    },
    {
      "cell_type": "code",
      "metadata": {
        "id": "qGC7gc7vjbNg",
        "colab_type": "code",
        "outputId": "946e2e6d-f9dd-4b87-ceaf-f045fdba1ff1",
        "colab": {
          "base_uri": "https://localhost:8080/",
          "height": 124
        }
      },
      "source": [
        "# combine dates and times column\n",
        "combined = ri.stop_date.str.cat(ri.stop_time, sep=' ')\n",
        "combined.head()"
      ],
      "execution_count": 0,
      "outputs": [
        {
          "output_type": "execute_result",
          "data": {
            "text/plain": [
              "0    2005-01-02 01:55\n",
              "1    2005-01-18 08:15\n",
              "2    2005-01-23 23:15\n",
              "3    2005-02-20 17:15\n",
              "4    2005-03-14 10:00\n",
              "Name: stop_date, dtype: object"
            ]
          },
          "metadata": {
            "tags": []
          },
          "execution_count": 30
        }
      ]
    },
    {
      "cell_type": "code",
      "metadata": {
        "id": "7X4kQwoJjxSp",
        "colab_type": "code",
        "colab": {}
      },
      "source": [
        "# take the series and converts it into a date-time datatype\n",
        "# store it in a new column\n",
        "ri['stop_datetime'] = pd.to_datetime(combined)"
      ],
      "execution_count": 0,
      "outputs": []
    },
    {
      "cell_type": "code",
      "metadata": {
        "id": "ouS-qDpjkFhb",
        "colab_type": "code",
        "outputId": "0d926bc1-b57a-4375-c681-ce620db9e46c",
        "colab": {
          "base_uri": "https://localhost:8080/",
          "height": 124
        }
      },
      "source": [
        "ri['stop_datetime'].head()\n",
        "# you can see the data type changed to datetime"
      ],
      "execution_count": 0,
      "outputs": [
        {
          "output_type": "execute_result",
          "data": {
            "text/plain": [
              "0   2005-01-02 01:55:00\n",
              "1   2005-01-18 08:15:00\n",
              "2   2005-01-23 23:15:00\n",
              "3   2005-02-20 17:15:00\n",
              "4   2005-03-14 10:00:00\n",
              "Name: stop_datetime, dtype: datetime64[ns]"
            ]
          },
          "metadata": {
            "tags": []
          },
          "execution_count": 32
        }
      ]
    },
    {
      "cell_type": "code",
      "metadata": {
        "id": "aiE8bLFuint6",
        "colab_type": "code",
        "outputId": "83df1746-a897-4d0b-c544-541e9cb18378",
        "colab": {
          "base_uri": "https://localhost:8080/",
          "height": 660
        }
      },
      "source": [
        "# working around with datetime data type\n",
        "print(ri.stop_datetime.dt.year)\n",
        "print(ri.stop_datetime.dt.month)\n",
        "print(ri.stop_datetime.dt.time)"
      ],
      "execution_count": 0,
      "outputs": [
        {
          "output_type": "stream",
          "text": [
            "0        2005\n",
            "1        2005\n",
            "2        2005\n",
            "3        2005\n",
            "4        2005\n",
            "         ... \n",
            "91736    2015\n",
            "91737    2015\n",
            "91738    2015\n",
            "91739    2015\n",
            "91740    2015\n",
            "Name: stop_datetime, Length: 91741, dtype: int64\n",
            "0         1\n",
            "1         1\n",
            "2         1\n",
            "3         2\n",
            "4         3\n",
            "         ..\n",
            "91736    12\n",
            "91737    12\n",
            "91738    12\n",
            "91739    12\n",
            "91740    12\n",
            "Name: stop_datetime, Length: 91741, dtype: int64\n",
            "0        01:55:00\n",
            "1        08:15:00\n",
            "2        23:15:00\n",
            "3        17:15:00\n",
            "4        10:00:00\n",
            "           ...   \n",
            "91736    20:27:00\n",
            "91737    20:35:00\n",
            "91738    20:45:00\n",
            "91739    21:42:00\n",
            "91740    22:46:00\n",
            "Name: stop_datetime, Length: 91741, dtype: object\n"
          ],
          "name": "stdout"
        }
      ]
    },
    {
      "cell_type": "code",
      "metadata": {
        "id": "ke2HaDpkk6Pd",
        "colab_type": "code",
        "outputId": "973af498-8be5-4c19-fea6-67a3f0fdb4e7",
        "colab": {
          "base_uri": "https://localhost:8080/",
          "height": 231
        }
      },
      "source": [
        "ri.stop_datetime.dt.year.value_counts().sort_values()"
      ],
      "execution_count": 0,
      "outputs": [
        {
          "output_type": "execute_result",
          "data": {
            "text/plain": [
              "2005     2558\n",
              "2010     7561\n",
              "2009     7908\n",
              "2013     7924\n",
              "2011     8126\n",
              "2015     8599\n",
              "2008     8752\n",
              "2014     9228\n",
              "2007     9476\n",
              "2006    10639\n",
              "2012    10970\n",
              "Name: stop_datetime, dtype: int64"
            ]
          },
          "metadata": {
            "tags": []
          },
          "execution_count": 34
        }
      ]
    },
    {
      "cell_type": "code",
      "metadata": {
        "id": "7h33nyGXlHaq",
        "colab_type": "code",
        "outputId": "4225a22b-4004-4efc-88a1-e01a277351b1",
        "colab": {
          "base_uri": "https://localhost:8080/",
          "height": 35
        }
      },
      "source": [
        "# just the minimum value\n",
        "ri.stop_datetime.dt.year.value_counts().sort_values().index[0]"
      ],
      "execution_count": 0,
      "outputs": [
        {
          "output_type": "execute_result",
          "data": {
            "text/plain": [
              "2005"
            ]
          },
          "metadata": {
            "tags": []
          },
          "execution_count": 35
        }
      ]
    },
    {
      "cell_type": "markdown",
      "metadata": {
        "id": "dyIB5yVzlg8L",
        "colab_type": "text"
      },
      "source": [
        "## **7. How does drug activity change by time of day?**\n",
        "* stop_datetime\n",
        "* drugs_related_stop\n",
        "\n"
      ]
    },
    {
      "cell_type": "code",
      "metadata": {
        "id": "oYJuP3kGlmj8",
        "colab_type": "code",
        "outputId": "ffe3a331-75fb-4474-a076-ad734c022064",
        "colab": {
          "base_uri": "https://localhost:8080/",
          "height": 35
        }
      },
      "source": [
        "ri.drugs_related_stop.mean()"
      ],
      "execution_count": 0,
      "outputs": [
        {
          "output_type": "execute_result",
          "data": {
            "text/plain": [
              "0.008883705213590434"
            ]
          },
          "metadata": {
            "tags": []
          },
          "execution_count": 36
        }
      ]
    },
    {
      "cell_type": "code",
      "metadata": {
        "id": "WA2OHkuImI9A",
        "colab_type": "code",
        "outputId": "38b0af6f-86b6-4561-c2d2-32b16257f3ad",
        "colab": {
          "base_uri": "https://localhost:8080/",
          "height": 298
        }
      },
      "source": [
        "# for each hour, what's the rate of drugs related stop?\n",
        "ri.groupby(ri.stop_datetime.dt.hour).drugs_related_stop.mean().plot()"
      ],
      "execution_count": 0,
      "outputs": [
        {
          "output_type": "execute_result",
          "data": {
            "text/plain": [
              "<matplotlib.axes._subplots.AxesSubplot at 0x7ff0c7e70da0>"
            ]
          },
          "metadata": {
            "tags": []
          },
          "execution_count": 37
        },
        {
          "output_type": "display_data",
          "data": {
            "image/png": "[encoded data removed]",
            "text/plain": [
              "<Figure size 432x288 with 1 Axes>"
            ]
          },
          "metadata": {
            "tags": []
          }
        }
      ]
    },
    {
      "cell_type": "code",
      "metadata": {
        "id": "4UGEV18JnOss",
        "colab_type": "code",
        "outputId": "d55c80fa-ff43-4ddf-e377-aff1359fc9bb",
        "colab": {
          "base_uri": "https://localhost:8080/",
          "height": 302
        }
      },
      "source": [
        "ri.groupby(ri.stop_datetime.dt.time).drugs_related_stop.mean().plot()"
      ],
      "execution_count": 0,
      "outputs": [
        {
          "output_type": "execute_result",
          "data": {
            "text/plain": [
              "<matplotlib.axes._subplots.AxesSubplot at 0x7ff0c7e1d198>"
            ]
          },
          "metadata": {
            "tags": []
          },
          "execution_count": 38
        },
        {
          "output_type": "display_data",
          "data": {
            "image/png": "[encoded data removed]",
            "text/plain": [
              "<Figure size 432x288 with 1 Axes>"
            ]
          },
          "metadata": {
            "tags": []
          }
        }
      ]
    },
    {
      "cell_type": "markdown",
      "metadata": {
        "id": "l9G2z9Uentjs",
        "colab_type": "text"
      },
      "source": [
        "##**8. Do most stops occur at night?**"
      ]
    },
    {
      "cell_type": "code",
      "metadata": {
        "id": "T22loyD3oB_b",
        "colab_type": "code",
        "outputId": "87923b7c-204b-45e4-a455-1628a7f4b47a",
        "colab": {
          "base_uri": "https://localhost:8080/",
          "height": 464
        }
      },
      "source": [
        "ri.stop_datetime.dt.hour.value_counts().sort_values()"
      ],
      "execution_count": 0,
      "outputs": [
        {
          "output_type": "execute_result",
          "data": {
            "text/plain": [
              "5      210\n",
              "4      254\n",
              "3     1172\n",
              "21    1499\n",
              "18    2168\n",
              "19    2587\n",
              "17    2900\n",
              "2     2975\n",
              "6     3290\n",
              "20    3340\n",
              "22    3473\n",
              "12    3582\n",
              "16    3844\n",
              "1     4442\n",
              "7     4572\n",
              "15    4832\n",
              "13    4842\n",
              "8     5210\n",
              "0     5221\n",
              "23    5629\n",
              "14    5634\n",
              "11    5877\n",
              "9     6838\n",
              "10    7350\n",
              "Name: stop_datetime, dtype: int64"
            ]
          },
          "metadata": {
            "tags": []
          },
          "execution_count": 39
        }
      ]
    },
    {
      "cell_type": "code",
      "metadata": {
        "id": "Oq1K8YGwoyaK",
        "colab_type": "code",
        "outputId": "8b5a8d79-b2be-497c-8d58-dc7487e08b92",
        "colab": {
          "base_uri": "https://localhost:8080/",
          "height": 283
        }
      },
      "source": [
        "ri.stop_datetime.dt.hour.value_counts().plot()"
      ],
      "execution_count": 0,
      "outputs": [
        {
          "output_type": "execute_result",
          "data": {
            "text/plain": [
              "<matplotlib.axes._subplots.AxesSubplot at 0x7ff0c7e1db00>"
            ]
          },
          "metadata": {
            "tags": []
          },
          "execution_count": 40
        },
        {
          "output_type": "display_data",
          "data": {
            "image/png": "[encoded data removed]",
            "text/plain": [
              "<Figure size 432x288 with 1 Axes>"
            ]
          },
          "metadata": {
            "tags": []
          }
        }
      ]
    },
    {
      "cell_type": "code",
      "metadata": {
        "id": "npVYVz7Xo1nK",
        "colab_type": "code",
        "outputId": "9e44e5a3-a6e1-41c5-93eb-02535fb95fb9",
        "colab": {
          "base_uri": "https://localhost:8080/",
          "height": 283
        }
      },
      "source": [
        "ri.stop_datetime.dt.hour.value_counts().sort_values().plot()"
      ],
      "execution_count": 0,
      "outputs": [
        {
          "output_type": "execute_result",
          "data": {
            "text/plain": [
              "<matplotlib.axes._subplots.AxesSubplot at 0x7ff0c810d320>"
            ]
          },
          "metadata": {
            "tags": []
          },
          "execution_count": 41
        },
        {
          "output_type": "display_data",
          "data": {
            "image/png": "[encoded data removed]",
            "text/plain": [
              "<Figure size 432x288 with 1 Axes>"
            ]
          },
          "metadata": {
            "tags": []
          }
        }
      ]
    },
    {
      "cell_type": "code",
      "metadata": {
        "id": "a678rZMbo6er",
        "colab_type": "code",
        "outputId": "b571deaf-e31b-44c2-c193-eb33d9010c52",
        "colab": {
          "base_uri": "https://localhost:8080/",
          "height": 283
        }
      },
      "source": [
        "ri.stop_datetime.dt.hour.value_counts().sort_index().plot()\n",
        "# as you can see that most plot occurs during the day"
      ],
      "execution_count": 0,
      "outputs": [
        {
          "output_type": "execute_result",
          "data": {
            "text/plain": [
              "<matplotlib.axes._subplots.AxesSubplot at 0x7ff0c816e908>"
            ]
          },
          "metadata": {
            "tags": []
          },
          "execution_count": 42
        },
        {
          "output_type": "display_data",
          "data": {
            "image/png": "[encoded data removed]",
            "text/plain": [
              "<Figure size 432x288 with 1 Axes>"
            ]
          },
          "metadata": {
            "tags": []
          }
        }
      ]
    },
    {
      "cell_type": "code",
      "metadata": {
        "id": "0joeR7i2pV3L",
        "colab_type": "code",
        "outputId": "b84cf580-a66b-4506-f4e0-39ae4954c3bb",
        "colab": {
          "base_uri": "https://localhost:8080/",
          "height": 35
        }
      },
      "source": [
        "# suppose the datetime is between 10pm to 4am\n",
        "ri[(ri.stop_datetime.dt.hour > 4) & (ri.stop_datetime.dt.hour < 22)].shape"
      ],
      "execution_count": 0,
      "outputs": [
        {
          "output_type": "execute_result",
          "data": {
            "text/plain": [
              "(68575, 16)"
            ]
          },
          "metadata": {
            "tags": []
          },
          "execution_count": 43
        }
      ]
    },
    {
      "cell_type": "code",
      "metadata": {
        "id": "KCUaYPZlpiF8",
        "colab_type": "code",
        "outputId": "2991d44d-35a5-4487-8b6b-f9c6fb92902d",
        "colab": {
          "base_uri": "https://localhost:8080/",
          "height": 35
        }
      },
      "source": [
        "ri.shape"
      ],
      "execution_count": 0,
      "outputs": [
        {
          "output_type": "execute_result",
          "data": {
            "text/plain": [
              "(91741, 16)"
            ]
          },
          "metadata": {
            "tags": []
          },
          "execution_count": 44
        }
      ]
    },
    {
      "cell_type": "code",
      "metadata": {
        "id": "NzixhdYIp8ue",
        "colab_type": "code",
        "colab": {}
      },
      "source": [
        ""
      ],
      "execution_count": 0,
      "outputs": []
    },
    {
      "cell_type": "markdown",
      "metadata": {
        "id": "EWFkd5tvqTIL",
        "colab_type": "text"
      },
      "source": [
        "##**9. Find the bad data in the stop_duration column and fix it**"
      ]
    },
    {
      "cell_type": "code",
      "metadata": {
        "id": "S-98Sprjcwr1",
        "colab_type": "code",
        "outputId": "b432827a-7791-4d1c-e86a-7f35ab430f94",
        "colab": {
          "base_uri": "https://localhost:8080/",
          "height": 142
        }
      },
      "source": [
        "ri.stop_duration.value_counts(dropna=False)"
      ],
      "execution_count": 0,
      "outputs": [
        {
          "output_type": "execute_result",
          "data": {
            "text/plain": [
              "0-15 Min     69543\n",
              "16-30 Min    13635\n",
              "NaN           5333\n",
              "30+ Min       3228\n",
              "2                1\n",
              "1                1\n",
              "Name: stop_duration, dtype: int64"
            ]
          },
          "metadata": {
            "tags": []
          },
          "execution_count": 49
        }
      ]
    },
    {
      "cell_type": "code",
      "metadata": {
        "id": "OsTza72PeKTA",
        "colab_type": "code",
        "outputId": "e28735dd-f271-4dd4-adc0-5239384ae625",
        "colab": {
          "base_uri": "https://localhost:8080/",
          "height": 35
        }
      },
      "source": [
        " ri.stop_duration.dtype"
      ],
      "execution_count": 0,
      "outputs": [
        {
          "output_type": "execute_result",
          "data": {
            "text/plain": [
              "dtype('O')"
            ]
          },
          "metadata": {
            "tags": []
          },
          "execution_count": 50
        }
      ]
    },
    {
      "cell_type": "code",
      "metadata": {
        "id": "BqbZuQFTfatu",
        "colab_type": "code",
        "colab": {}
      },
      "source": [
        "# first you select the row, then you select the column \n",
        "ri.loc[(ri.stop_duration=='1')|(ri.stop_duration=='2'), \n",
        "       'stop_duration'] = 'NaN' "
      ],
      "execution_count": 0,
      "outputs": []
    },
    {
      "cell_type": "code",
      "metadata": {
        "id": "rrEAjyDtgP6z",
        "colab_type": "code",
        "outputId": "683d9c2c-f1cc-4982-8949-f7107cd28455",
        "colab": {
          "base_uri": "https://localhost:8080/",
          "height": 124
        }
      },
      "source": [
        "# the problem is that the NaN(missing value) is not a string in Pandas \n",
        "ri.stop_duration.value_counts(dropna=False)"
      ],
      "execution_count": 0,
      "outputs": [
        {
          "output_type": "execute_result",
          "data": {
            "text/plain": [
              "0-15 Min     69543\n",
              "16-30 Min    13635\n",
              "NaN           5333\n",
              "30+ Min       3228\n",
              "NaN              2\n",
              "Name: stop_duration, dtype: int64"
            ]
          },
          "metadata": {
            "tags": []
          },
          "execution_count": 54
        }
      ]
    },
    {
      "cell_type": "code",
      "metadata": {
        "id": "UiD7-xE7gndk",
        "colab_type": "code",
        "colab": {}
      },
      "source": [
        "import numpy as np"
      ],
      "execution_count": 0,
      "outputs": []
    },
    {
      "cell_type": "code",
      "metadata": {
        "id": "AJ6cHJrThC2k",
        "colab_type": "code",
        "colab": {}
      },
      "source": [
        "# now we use numpy to replace the string NaN to real nan\n",
        "ri.loc[ri.stop_duration == 'NaN', 'stop_duration'] = np.nan"
      ],
      "execution_count": 0,
      "outputs": []
    },
    {
      "cell_type": "code",
      "metadata": {
        "id": "kGsTSfXniT9E",
        "colab_type": "code",
        "outputId": "90093f9e-975d-49dc-ebe1-f589b6c733f2",
        "colab": {
          "base_uri": "https://localhost:8080/",
          "height": 106
        }
      },
      "source": [
        "ri.stop_duration.value_counts(dropna=False)"
      ],
      "execution_count": 0,
      "outputs": [
        {
          "output_type": "execute_result",
          "data": {
            "text/plain": [
              "0-15 Min     69543\n",
              "16-30 Min    13635\n",
              "NaN           5335\n",
              "30+ Min       3228\n",
              "Name: stop_duration, dtype: int64"
            ]
          },
          "metadata": {
            "tags": []
          },
          "execution_count": 58
        }
      ]
    },
    {
      "cell_type": "code",
      "metadata": {
        "id": "IcRr38ooiYXf",
        "colab_type": "code",
        "colab": {}
      },
      "source": [
        ""
      ],
      "execution_count": 0,
      "outputs": []
    }
  ]
}