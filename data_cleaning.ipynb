{
  "nbformat": 4,
  "nbformat_minor": 0,
  "metadata": {
    "colab": {
      "name": "data_cleaning1.ipynb",
      "provenance": [],
      "collapsed_sections": [],
      "include_colab_link": true
    },
    "kernelspec": {
      "name": "python3",
      "display_name": "Python 3"
    }
  },
  "cells": [
    {
      "cell_type": "markdown",
      "metadata": {
        "id": "view-in-github",
        "colab_type": "text"
      },
      "source": [
        "<a href=\"https://colab.research.google.com/github/Tizzy1999/ml2019/blob/master/data_cleaning.ipynb\" target=\"_parent\"><img src=\"https://colab.research.google.com/assets/colab-badge.svg\" alt=\"Open In Colab\"/></a>"
      ]
    },
    {
      "cell_type": "code",
      "metadata": {
        "id": "s2dvYOVotIdr",
        "colab_type": "code",
        "outputId": "e54b5f49-767a-49c5-89e0-148918b91eed",
        "colab": {
          "base_uri": "https://localhost:8080/",
          "height": 126
        }
      },
      "source": [
        "from google.colab import drive\n",
        "drive.mount('/content/gdrive')"
      ],
      "execution_count": 0,
      "outputs": [
        {
          "output_type": "stream",
          "text": [
            "Go to this URL in a browser: https://accounts.google.com/o/oauth2/auth?client_id=947318989803-6bn6qk8qdgf4n4g3pfee6491hc0brc4i.apps.googleusercontent.com&redirect_uri=urn%3aietf%3awg%3aoauth%3a2.0%3aoob&response_type=code&scope=email%20https%3a%2f%2fwww.googleapis.com%2fauth%2fdocs.test%20https%3a%2f%2fwww.googleapis.com%2fauth%2fdrive%20https%3a%2f%2fwww.googleapis.com%2fauth%2fdrive.photos.readonly%20https%3a%2f%2fwww.googleapis.com%2fauth%2fpeopleapi.readonly\n",
            "\n",
            "Enter your authorization code:\n",
            "··········\n",
            "Mounted at /content/gdrive\n"
          ],
          "name": "stdout"
        }
      ]
    },
    {
      "cell_type": "code",
      "metadata": {
        "id": "BMX6KYMst6_C",
        "colab_type": "code",
        "colab": {}
      },
      "source": [
        "import pandas as pd\n",
        "import numpy as np"
      ],
      "execution_count": 0,
      "outputs": []
    },
    {
      "cell_type": "markdown",
      "metadata": {
        "id": "lEgYubL8vbR7",
        "colab_type": "text"
      },
      "source": [
        "##**Dropping columns in a dataframe**"
      ]
    },
    {
      "cell_type": "code",
      "metadata": {
        "id": "JgqWQTSyuPEw",
        "colab_type": "code",
        "colab": {}
      },
      "source": [
        "\n",
        "df = pd.read_csv('/content/gdrive/My Drive/201911ML/BL-Flickr-Images-Book.csv')"
      ],
      "execution_count": 0,
      "outputs": []
    },
    {
      "cell_type": "code",
      "metadata": {
        "id": "qsdABTi4ufQH",
        "colab_type": "code",
        "outputId": "0b8d794a-e336-4a17-c10c-6a082cf061a9",
        "colab": {
          "base_uri": "https://localhost:8080/",
          "height": 512
        }
      },
      "source": [
        "df.head()"
      ],
      "execution_count": 0,
      "outputs": [
        {
          "output_type": "execute_result",
          "data": {
            "text/html": [
              "<div>\n",
              "<style scoped>\n",
              "    .dataframe tbody tr th:only-of-type {\n",
              "        vertical-align: middle;\n",
              "    }\n",
              "\n",
              "    .dataframe tbody tr th {\n",
              "        vertical-align: top;\n",
              "    }\n",
              "\n",
              "    .dataframe thead th {\n",
              "        text-align: right;\n",
              "    }\n",
              "</style>\n",
              "<table border=\"1\" class=\"dataframe\">\n",
              "  <thead>\n",
              "    <tr style=\"text-align: right;\">\n",
              "      <th></th>\n",
              "      <th>Identifier</th>\n",
              "      <th>Edition Statement</th>\n",
              "      <th>Place of Publication</th>\n",
              "      <th>Date of Publication</th>\n",
              "      <th>Publisher</th>\n",
              "      <th>Title</th>\n",
              "      <th>Author</th>\n",
              "      <th>Contributors</th>\n",
              "      <th>Corporate Author</th>\n",
              "      <th>Corporate Contributors</th>\n",
              "      <th>Former owner</th>\n",
              "      <th>Engraver</th>\n",
              "      <th>Issuance type</th>\n",
              "      <th>Flickr URL</th>\n",
              "      <th>Shelfmarks</th>\n",
              "    </tr>\n",
              "  </thead>\n",
              "  <tbody>\n",
              "    <tr>\n",
              "      <th>0</th>\n",
              "      <td>206</td>\n",
              "      <td>NaN</td>\n",
              "      <td>London</td>\n",
              "      <td>1879 [1878]</td>\n",
              "      <td>S. Tinsley &amp; Co.</td>\n",
              "      <td>Walter Forbes. [A novel.] By A. A</td>\n",
              "      <td>A. A.</td>\n",
              "      <td>FORBES, Walter.</td>\n",
              "      <td>NaN</td>\n",
              "      <td>NaN</td>\n",
              "      <td>NaN</td>\n",
              "      <td>NaN</td>\n",
              "      <td>monographic</td>\n",
              "      <td>http://www.flickr.com/photos/britishlibrary/ta...</td>\n",
              "      <td>British Library HMNTS 12641.b.30.</td>\n",
              "    </tr>\n",
              "    <tr>\n",
              "      <th>1</th>\n",
              "      <td>216</td>\n",
              "      <td>NaN</td>\n",
              "      <td>London; Virtue &amp; Yorston</td>\n",
              "      <td>1868</td>\n",
              "      <td>Virtue &amp; Co.</td>\n",
              "      <td>All for Greed. [A novel. The dedication signed...</td>\n",
              "      <td>A., A. A.</td>\n",
              "      <td>BLAZE DE BURY, Marie Pauline Rose - Baroness</td>\n",
              "      <td>NaN</td>\n",
              "      <td>NaN</td>\n",
              "      <td>NaN</td>\n",
              "      <td>NaN</td>\n",
              "      <td>monographic</td>\n",
              "      <td>http://www.flickr.com/photos/britishlibrary/ta...</td>\n",
              "      <td>British Library HMNTS 12626.cc.2.</td>\n",
              "    </tr>\n",
              "    <tr>\n",
              "      <th>2</th>\n",
              "      <td>218</td>\n",
              "      <td>NaN</td>\n",
              "      <td>London</td>\n",
              "      <td>1869</td>\n",
              "      <td>Bradbury, Evans &amp; Co.</td>\n",
              "      <td>Love the Avenger. By the author of “All for Gr...</td>\n",
              "      <td>A., A. A.</td>\n",
              "      <td>BLAZE DE BURY, Marie Pauline Rose - Baroness</td>\n",
              "      <td>NaN</td>\n",
              "      <td>NaN</td>\n",
              "      <td>NaN</td>\n",
              "      <td>NaN</td>\n",
              "      <td>monographic</td>\n",
              "      <td>http://www.flickr.com/photos/britishlibrary/ta...</td>\n",
              "      <td>British Library HMNTS 12625.dd.1.</td>\n",
              "    </tr>\n",
              "    <tr>\n",
              "      <th>3</th>\n",
              "      <td>472</td>\n",
              "      <td>NaN</td>\n",
              "      <td>London</td>\n",
              "      <td>1851</td>\n",
              "      <td>James Darling</td>\n",
              "      <td>Welsh Sketches, chiefly ecclesiastical, to the...</td>\n",
              "      <td>A., E. S.</td>\n",
              "      <td>Appleyard, Ernest Silvanus.</td>\n",
              "      <td>NaN</td>\n",
              "      <td>NaN</td>\n",
              "      <td>NaN</td>\n",
              "      <td>NaN</td>\n",
              "      <td>monographic</td>\n",
              "      <td>http://www.flickr.com/photos/britishlibrary/ta...</td>\n",
              "      <td>British Library HMNTS 10369.bbb.15.</td>\n",
              "    </tr>\n",
              "    <tr>\n",
              "      <th>4</th>\n",
              "      <td>480</td>\n",
              "      <td>A new edition, revised, etc.</td>\n",
              "      <td>London</td>\n",
              "      <td>1857</td>\n",
              "      <td>Wertheim &amp; Macintosh</td>\n",
              "      <td>[The World in which I live, and my place in it...</td>\n",
              "      <td>A., E. S.</td>\n",
              "      <td>BROOME, John Henry.</td>\n",
              "      <td>NaN</td>\n",
              "      <td>NaN</td>\n",
              "      <td>NaN</td>\n",
              "      <td>NaN</td>\n",
              "      <td>monographic</td>\n",
              "      <td>http://www.flickr.com/photos/britishlibrary/ta...</td>\n",
              "      <td>British Library HMNTS 9007.d.28.</td>\n",
              "    </tr>\n",
              "  </tbody>\n",
              "</table>\n",
              "</div>"
            ],
            "text/plain": [
              "   Identifier  ...                           Shelfmarks\n",
              "0         206  ...    British Library HMNTS 12641.b.30.\n",
              "1         216  ...    British Library HMNTS 12626.cc.2.\n",
              "2         218  ...    British Library HMNTS 12625.dd.1.\n",
              "3         472  ...  British Library HMNTS 10369.bbb.15.\n",
              "4         480  ...     British Library HMNTS 9007.d.28.\n",
              "\n",
              "[5 rows x 15 columns]"
            ]
          },
          "metadata": {
            "tags": []
          },
          "execution_count": 4
        }
      ]
    },
    {
      "cell_type": "code",
      "metadata": {
        "id": "SwxFnKEtugtQ",
        "colab_type": "code",
        "colab": {}
      },
      "source": [
        "to_drop = ['Edition Statement',\n",
        "           'Corporate Author',\n",
        "            'Corporate Contributors',\n",
        "            'Former owner',\n",
        "            'Engraver',\n",
        "            'Contributors',\n",
        "            'Issuance type',\n",
        "            'Shelfmarks']\n",
        "          \n",
        "df.drop(to_drop, inplace=True, axis=1)\n",
        "# specify the labels to be removed and the axis where Pandas should look for the labels\n",
        "# Alternative way of dropping: \n",
        "# directly passing the columns to be removed \n",
        "# df.drop(columns=to_drop, inplace=True)\n"
      ],
      "execution_count": 0,
      "outputs": []
    },
    {
      "cell_type": "code",
      "metadata": {
        "id": "3C-ksUyRvFjT",
        "colab_type": "code",
        "outputId": "27e9cd3c-721b-4b29-a2af-b654fce64905",
        "colab": {
          "base_uri": "https://localhost:8080/",
          "height": 512
        }
      },
      "source": [
        "df.head()"
      ],
      "execution_count": 0,
      "outputs": [
        {
          "output_type": "execute_result",
          "data": {
            "text/html": [
              "<div>\n",
              "<style scoped>\n",
              "    .dataframe tbody tr th:only-of-type {\n",
              "        vertical-align: middle;\n",
              "    }\n",
              "\n",
              "    .dataframe tbody tr th {\n",
              "        vertical-align: top;\n",
              "    }\n",
              "\n",
              "    .dataframe thead th {\n",
              "        text-align: right;\n",
              "    }\n",
              "</style>\n",
              "<table border=\"1\" class=\"dataframe\">\n",
              "  <thead>\n",
              "    <tr style=\"text-align: right;\">\n",
              "      <th></th>\n",
              "      <th>Identifier</th>\n",
              "      <th>Place of Publication</th>\n",
              "      <th>Date of Publication</th>\n",
              "      <th>Publisher</th>\n",
              "      <th>Title</th>\n",
              "      <th>Author</th>\n",
              "      <th>Flickr URL</th>\n",
              "    </tr>\n",
              "  </thead>\n",
              "  <tbody>\n",
              "    <tr>\n",
              "      <th>0</th>\n",
              "      <td>206</td>\n",
              "      <td>London</td>\n",
              "      <td>1879 [1878]</td>\n",
              "      <td>S. Tinsley &amp; Co.</td>\n",
              "      <td>Walter Forbes. [A novel.] By A. A</td>\n",
              "      <td>A. A.</td>\n",
              "      <td>http://www.flickr.com/photos/britishlibrary/ta...</td>\n",
              "    </tr>\n",
              "    <tr>\n",
              "      <th>1</th>\n",
              "      <td>216</td>\n",
              "      <td>London; Virtue &amp; Yorston</td>\n",
              "      <td>1868</td>\n",
              "      <td>Virtue &amp; Co.</td>\n",
              "      <td>All for Greed. [A novel. The dedication signed...</td>\n",
              "      <td>A., A. A.</td>\n",
              "      <td>http://www.flickr.com/photos/britishlibrary/ta...</td>\n",
              "    </tr>\n",
              "    <tr>\n",
              "      <th>2</th>\n",
              "      <td>218</td>\n",
              "      <td>London</td>\n",
              "      <td>1869</td>\n",
              "      <td>Bradbury, Evans &amp; Co.</td>\n",
              "      <td>Love the Avenger. By the author of “All for Gr...</td>\n",
              "      <td>A., A. A.</td>\n",
              "      <td>http://www.flickr.com/photos/britishlibrary/ta...</td>\n",
              "    </tr>\n",
              "    <tr>\n",
              "      <th>3</th>\n",
              "      <td>472</td>\n",
              "      <td>London</td>\n",
              "      <td>1851</td>\n",
              "      <td>James Darling</td>\n",
              "      <td>Welsh Sketches, chiefly ecclesiastical, to the...</td>\n",
              "      <td>A., E. S.</td>\n",
              "      <td>http://www.flickr.com/photos/britishlibrary/ta...</td>\n",
              "    </tr>\n",
              "    <tr>\n",
              "      <th>4</th>\n",
              "      <td>480</td>\n",
              "      <td>London</td>\n",
              "      <td>1857</td>\n",
              "      <td>Wertheim &amp; Macintosh</td>\n",
              "      <td>[The World in which I live, and my place in it...</td>\n",
              "      <td>A., E. S.</td>\n",
              "      <td>http://www.flickr.com/photos/britishlibrary/ta...</td>\n",
              "    </tr>\n",
              "  </tbody>\n",
              "</table>\n",
              "</div>"
            ],
            "text/plain": [
              "   Identifier  ...                                         Flickr URL\n",
              "0         206  ...  http://www.flickr.com/photos/britishlibrary/ta...\n",
              "1         216  ...  http://www.flickr.com/photos/britishlibrary/ta...\n",
              "2         218  ...  http://www.flickr.com/photos/britishlibrary/ta...\n",
              "3         472  ...  http://www.flickr.com/photos/britishlibrary/ta...\n",
              "4         480  ...  http://www.flickr.com/photos/britishlibrary/ta...\n",
              "\n",
              "[5 rows x 7 columns]"
            ]
          },
          "metadata": {
            "tags": []
          },
          "execution_count": 6
        }
      ]
    },
    {
      "cell_type": "markdown",
      "metadata": {
        "id": "JVhZVL-Yvgbn",
        "colab_type": "text"
      },
      "source": [
        "##**Changing the index of a dataframe**"
      ]
    },
    {
      "cell_type": "code",
      "metadata": {
        "id": "M1RJZsmZvIUJ",
        "colab_type": "code",
        "outputId": "ca1a842c-e9c9-4a0c-cba0-aa87afc75db5",
        "colab": {
          "base_uri": "https://localhost:8080/",
          "height": 35
        }
      },
      "source": [
        "df['Identifier'].is_unique"
      ],
      "execution_count": 0,
      "outputs": [
        {
          "output_type": "execute_result",
          "data": {
            "text/plain": [
              "True"
            ]
          },
          "metadata": {
            "tags": []
          },
          "execution_count": 7
        }
      ]
    },
    {
      "cell_type": "code",
      "metadata": {
        "id": "GThSa5FAvob7",
        "colab_type": "code",
        "outputId": "aa41373c-2927-4f56-ac57-60a4915b9327",
        "colab": {
          "base_uri": "https://localhost:8080/",
          "height": 542
        }
      },
      "source": [
        "# replace the existing index with the 'identifier' column using set_index\n",
        "# the method returns a modified copy of the object by default, \n",
        "# without making changes directly to the object. \n",
        "# instead, we can setting the inplace parameter\n",
        "# df.set_index('Indentifier', inplace=True)\n",
        "df = df.set_index('Identifier')\n",
        "df.head()"
      ],
      "execution_count": 0,
      "outputs": [
        {
          "output_type": "execute_result",
          "data": {
            "text/html": [
              "<div>\n",
              "<style scoped>\n",
              "    .dataframe tbody tr th:only-of-type {\n",
              "        vertical-align: middle;\n",
              "    }\n",
              "\n",
              "    .dataframe tbody tr th {\n",
              "        vertical-align: top;\n",
              "    }\n",
              "\n",
              "    .dataframe thead th {\n",
              "        text-align: right;\n",
              "    }\n",
              "</style>\n",
              "<table border=\"1\" class=\"dataframe\">\n",
              "  <thead>\n",
              "    <tr style=\"text-align: right;\">\n",
              "      <th></th>\n",
              "      <th>Place of Publication</th>\n",
              "      <th>Date of Publication</th>\n",
              "      <th>Publisher</th>\n",
              "      <th>Title</th>\n",
              "      <th>Author</th>\n",
              "      <th>Flickr URL</th>\n",
              "    </tr>\n",
              "    <tr>\n",
              "      <th>Identifier</th>\n",
              "      <th></th>\n",
              "      <th></th>\n",
              "      <th></th>\n",
              "      <th></th>\n",
              "      <th></th>\n",
              "      <th></th>\n",
              "    </tr>\n",
              "  </thead>\n",
              "  <tbody>\n",
              "    <tr>\n",
              "      <th>206</th>\n",
              "      <td>London</td>\n",
              "      <td>1879 [1878]</td>\n",
              "      <td>S. Tinsley &amp; Co.</td>\n",
              "      <td>Walter Forbes. [A novel.] By A. A</td>\n",
              "      <td>A. A.</td>\n",
              "      <td>http://www.flickr.com/photos/britishlibrary/ta...</td>\n",
              "    </tr>\n",
              "    <tr>\n",
              "      <th>216</th>\n",
              "      <td>London; Virtue &amp; Yorston</td>\n",
              "      <td>1868</td>\n",
              "      <td>Virtue &amp; Co.</td>\n",
              "      <td>All for Greed. [A novel. The dedication signed...</td>\n",
              "      <td>A., A. A.</td>\n",
              "      <td>http://www.flickr.com/photos/britishlibrary/ta...</td>\n",
              "    </tr>\n",
              "    <tr>\n",
              "      <th>218</th>\n",
              "      <td>London</td>\n",
              "      <td>1869</td>\n",
              "      <td>Bradbury, Evans &amp; Co.</td>\n",
              "      <td>Love the Avenger. By the author of “All for Gr...</td>\n",
              "      <td>A., A. A.</td>\n",
              "      <td>http://www.flickr.com/photos/britishlibrary/ta...</td>\n",
              "    </tr>\n",
              "    <tr>\n",
              "      <th>472</th>\n",
              "      <td>London</td>\n",
              "      <td>1851</td>\n",
              "      <td>James Darling</td>\n",
              "      <td>Welsh Sketches, chiefly ecclesiastical, to the...</td>\n",
              "      <td>A., E. S.</td>\n",
              "      <td>http://www.flickr.com/photos/britishlibrary/ta...</td>\n",
              "    </tr>\n",
              "    <tr>\n",
              "      <th>480</th>\n",
              "      <td>London</td>\n",
              "      <td>1857</td>\n",
              "      <td>Wertheim &amp; Macintosh</td>\n",
              "      <td>[The World in which I live, and my place in it...</td>\n",
              "      <td>A., E. S.</td>\n",
              "      <td>http://www.flickr.com/photos/britishlibrary/ta...</td>\n",
              "    </tr>\n",
              "  </tbody>\n",
              "</table>\n",
              "</div>"
            ],
            "text/plain": [
              "                Place of Publication  ...                                         Flickr URL\n",
              "Identifier                            ...                                                   \n",
              "206                           London  ...  http://www.flickr.com/photos/britishlibrary/ta...\n",
              "216         London; Virtue & Yorston  ...  http://www.flickr.com/photos/britishlibrary/ta...\n",
              "218                           London  ...  http://www.flickr.com/photos/britishlibrary/ta...\n",
              "472                           London  ...  http://www.flickr.com/photos/britishlibrary/ta...\n",
              "480                           London  ...  http://www.flickr.com/photos/britishlibrary/ta...\n",
              "\n",
              "[5 rows x 6 columns]"
            ]
          },
          "metadata": {
            "tags": []
          },
          "execution_count": 8
        }
      ]
    },
    {
      "cell_type": "code",
      "metadata": {
        "id": "zceqIebFv3en",
        "colab_type": "code",
        "outputId": "8d8723c5-e038-4387-8d93-c934d57ea7d8",
        "colab": {
          "base_uri": "https://localhost:8080/",
          "height": 142
        }
      },
      "source": [
        "# access each record using loc, which allows label-based indexing\n",
        "# it's the labeling of a record without regard to its position\n",
        "df.loc[206]"
      ],
      "execution_count": 0,
      "outputs": [
        {
          "output_type": "execute_result",
          "data": {
            "text/plain": [
              "Place of Publication                                               London\n",
              "Date of Publication                                           1879 [1878]\n",
              "Publisher                                                S. Tinsley & Co.\n",
              "Title                                   Walter Forbes. [A novel.] By A. A\n",
              "Author                                                              A. A.\n",
              "Flickr URL              http://www.flickr.com/photos/britishlibrary/ta...\n",
              "Name: 206, dtype: object"
            ]
          },
          "metadata": {
            "tags": []
          },
          "execution_count": 9
        }
      ]
    },
    {
      "cell_type": "markdown",
      "metadata": {
        "id": "DbI5fOUEw0YO",
        "colab_type": "text"
      },
      "source": [
        "> In other words, 206 is the ***first label*** of th index. To access it by position, we could use df.iloc[0], which does ***position-based indexing***."
      ]
    },
    {
      "cell_type": "markdown",
      "metadata": {
        "id": "EY1OGxJc2TRH",
        "colab_type": "text"
      },
      "source": [
        "## **Tidying up Fields in the Data**\n",
        "###object dtype\n",
        "* which is roughly analogous to ***str*** in native Python.\n",
        "* It encapsulates any field that can’t be neatly fit as numerical or categorical data.\n",
        "\n"
      ]
    },
    {
      "cell_type": "code",
      "metadata": {
        "id": "S7yHhMmcwuNn",
        "colab_type": "code",
        "outputId": "0d6e3621-9ac1-45b3-9f1b-b56998adfa47",
        "colab": {
          "base_uri": "https://localhost:8080/",
          "height": 213
        }
      },
      "source": [
        "df.info()"
      ],
      "execution_count": 0,
      "outputs": [
        {
          "output_type": "stream",
          "text": [
            "<class 'pandas.core.frame.DataFrame'>\n",
            "Int64Index: 8287 entries, 206 to 4160339\n",
            "Data columns (total 6 columns):\n",
            "Place of Publication    8287 non-null object\n",
            "Date of Publication     8106 non-null object\n",
            "Publisher               4092 non-null object\n",
            "Title                   8287 non-null object\n",
            "Author                  6509 non-null object\n",
            "Flickr URL              8287 non-null object\n",
            "dtypes: object(6)\n",
            "memory usage: 773.2+ KB\n"
          ],
          "name": "stdout"
        }
      ]
    },
    {
      "cell_type": "code",
      "metadata": {
        "id": "53yY77jS2yh1",
        "colab_type": "code",
        "outputId": "fdc798c8-d353-4288-e999-dfac60930ca1",
        "colab": {
          "base_uri": "https://localhost:8080/",
          "height": 108
        }
      },
      "source": [
        "df.get_dtype_counts()"
      ],
      "execution_count": 0,
      "outputs": [
        {
          "output_type": "stream",
          "text": [
            "/usr/local/lib/python3.6/dist-packages/ipykernel_launcher.py:1: FutureWarning: `get_dtype_counts` has been deprecated and will be removed in a future version. For DataFrames use `.dtypes.value_counts()\n",
            "  \"\"\"Entry point for launching an IPython kernel.\n"
          ],
          "name": "stderr"
        },
        {
          "output_type": "execute_result",
          "data": {
            "text/plain": [
              "object    6\n",
              "dtype: int64"
            ]
          },
          "metadata": {
            "tags": []
          },
          "execution_count": 11
        }
      ]
    },
    {
      "cell_type": "code",
      "metadata": {
        "id": "SBOLs8yB3ys_",
        "colab_type": "code",
        "outputId": "ffb7fc64-b06c-4c38-9128-107a52d1ae3d",
        "colab": {
          "base_uri": "https://localhost:8080/",
          "height": 231
        }
      },
      "source": [
        "df.loc[1905:,'Date of Publication'].head(10)"
      ],
      "execution_count": 0,
      "outputs": [
        {
          "output_type": "execute_result",
          "data": {
            "text/plain": [
              "Identifier\n",
              "1905           1888\n",
              "1929    1839, 38-54\n",
              "2836           1897\n",
              "2854           1865\n",
              "2956        1860-63\n",
              "2957           1873\n",
              "3017           1866\n",
              "3131           1899\n",
              "4598           1814\n",
              "4884           1820\n",
              "Name: Date of Publication, dtype: object"
            ]
          },
          "metadata": {
            "tags": []
          },
          "execution_count": 12
        }
      ]
    },
    {
      "cell_type": "markdown",
      "metadata": {
        "id": "-xsxmoII6wyX",
        "colab_type": "text"
      },
      "source": [
        "* Remove the extra dates in square brackets, wherever present: 1879 [1878]\n",
        "* Convert date ranges to their “start date”, wherever present: 1860-63; 1839, 38-54\n",
        "* Completely remove the dates we are not certain about and replace them with NumPy’s NaN: [1897?]\n",
        "* Convert the string nan to NumPy’s NaN value"
      ]
    },
    {
      "cell_type": "code",
      "metadata": {
        "id": "sJx82IxI6KvK",
        "colab_type": "code",
        "colab": {}
      },
      "source": [
        "# synthesizing year pattern using a single regular expression\n",
        "regex = r'^(\\d{4})'\n",
        "# \\d represents ant digit, {4} denotes repeat this rule four times\n",
        "# ^ character matches the start of a string\n",
        "# () denotes a capturin group"
      ],
      "execution_count": 0,
      "outputs": []
    },
    {
      "cell_type": "code",
      "metadata": {
        "id": "QbtB4jW16CSM",
        "colab_type": "code",
        "outputId": "c0d98344-c3e6-4c3e-c2d1-5b18e2d965b8",
        "colab": {
          "base_uri": "https://localhost:8080/",
          "height": 410
        }
      },
      "source": [
        "extr = df['Date of Publication'].str.extract(regex, expand=False)\n",
        "extr.head(20)"
      ],
      "execution_count": 0,
      "outputs": [
        {
          "output_type": "execute_result",
          "data": {
            "text/plain": [
              "Identifier\n",
              "206     1879\n",
              "216     1868\n",
              "218     1869\n",
              "472     1851\n",
              "480     1857\n",
              "481     1875\n",
              "519     1872\n",
              "667      NaN\n",
              "874     1676\n",
              "1143    1679\n",
              "1280    1802\n",
              "1808    1859\n",
              "1905    1888\n",
              "1929    1839\n",
              "2836    1897\n",
              "2854    1865\n",
              "2956    1860\n",
              "2957    1873\n",
              "3017    1866\n",
              "3131    1899\n",
              "Name: Date of Publication, dtype: object"
            ]
          },
          "metadata": {
            "tags": []
          },
          "execution_count": 14
        }
      ]
    },
    {
      "cell_type": "code",
      "metadata": {
        "id": "FOl4lVaY8Dsy",
        "colab_type": "code",
        "outputId": "7ae434c7-6164-4111-abb5-c5e3f6e0eb8f",
        "colab": {
          "base_uri": "https://localhost:8080/",
          "height": 35
        }
      },
      "source": [
        "# technically, the column still has object dtype\n",
        "# but we can easily get its numerical version with pd.to_numeric\n",
        "\n",
        "df['Date of Publication'] = pd.to_numeric(extr)\n",
        "df['Date of Publication'].dtype"
      ],
      "execution_count": 0,
      "outputs": [
        {
          "output_type": "execute_result",
          "data": {
            "text/plain": [
              "dtype('float64')"
            ]
          },
          "metadata": {
            "tags": []
          },
          "execution_count": 15
        }
      ]
    },
    {
      "cell_type": "code",
      "metadata": {
        "id": "6dL3oJ1U9FUq",
        "colab_type": "code",
        "outputId": "43c26a19-3e1f-415c-f92b-687ff3b61159",
        "colab": {
          "base_uri": "https://localhost:8080/",
          "height": 35
        }
      },
      "source": [
        "df['Date of Publication'].isnull().sum()/len(df)"
      ],
      "execution_count": 0,
      "outputs": [
        {
          "output_type": "execute_result",
          "data": {
            "text/plain": [
              "0.11717147339205986"
            ]
          },
          "metadata": {
            "tags": []
          },
          "execution_count": 16
        }
      ]
    },
    {
      "cell_type": "markdown",
      "metadata": {
        "id": "anEkWmU99O8J",
        "colab_type": "text"
      },
      "source": [
        "##**Combining str Methods with Numpy to Clean Columns**\n",
        "\n",
        "* the ***str*** attribute of column is a way to access string operations in Pandas, such as .split(), .replace(), and .captitalize()\n",
        "\n",
        "np.where(condition, then , else)\n",
        "* condition is either an array-like object or a boolean mask. then is the value to be used if condition is true. else is the value to be used otherwise."
      ]
    },
    {
      "cell_type": "code",
      "metadata": {
        "id": "evyt6xYu-ikV",
        "colab_type": "code",
        "outputId": "313ffd06-ebc8-48b7-f6cd-82a747a87873",
        "colab": {
          "base_uri": "https://localhost:8080/",
          "height": 321
        }
      },
      "source": [
        "df['Place of Publication'].head(15)"
      ],
      "execution_count": 0,
      "outputs": [
        {
          "output_type": "execute_result",
          "data": {
            "text/plain": [
              "Identifier\n",
              "206                                  London\n",
              "216                London; Virtue & Yorston\n",
              "218                                  London\n",
              "472                                  London\n",
              "480                                  London\n",
              "481                                  London\n",
              "519                                  London\n",
              "667     pp. 40. G. Bryan & Co: Oxford, 1898\n",
              "874                                 London]\n",
              "1143                                 London\n",
              "1280                               Coventry\n",
              "1808                            Christiania\n",
              "1905                                Firenze\n",
              "1929                              Amsterdam\n",
              "2836                                 Savona\n",
              "Name: Place of Publication, dtype: object"
            ]
          },
          "metadata": {
            "tags": []
          },
          "execution_count": 17
        }
      ]
    },
    {
      "cell_type": "code",
      "metadata": {
        "id": "d79iduEY--VZ",
        "colab_type": "code",
        "outputId": "a6840fc6-48d0-4ca7-857c-dbba699ab9cc",
        "colab": {
          "base_uri": "https://localhost:8080/",
          "height": 267
        }
      },
      "source": [
        "# Let's look at two specific entries:\n",
        "print(df.loc[4157862])\n",
        "print(df.loc[4159587])"
      ],
      "execution_count": 0,
      "outputs": [
        {
          "output_type": "stream",
          "text": [
            "Place of Publication                                  Newcastle-upon-Tyne\n",
            "Date of Publication                                                  1867\n",
            "Publisher                                                      T. Fordyce\n",
            "Title                   Local Records; or, Historical Register of rema...\n",
            "Author                      FORDYCE, T. - Printer, of Newcastle-upon-Tyne\n",
            "Flickr URL              http://www.flickr.com/photos/britishlibrary/ta...\n",
            "Name: 4157862, dtype: object\n",
            "Place of Publication                                  Newcastle upon Tyne\n",
            "Date of Publication                                                  1834\n",
            "Publisher                                                Mackenzie & Dent\n",
            "Title                   An historical, topographical and descriptive v...\n",
            "Author                                              Mackenzie, E. (Eneas)\n",
            "Flickr URL              http://www.flickr.com/photos/britishlibrary/ta...\n",
            "Name: 4159587, dtype: object\n"
          ],
          "name": "stdout"
        }
      ]
    },
    {
      "cell_type": "markdown",
      "metadata": {
        "id": "mbVOEZQYAA_Q",
        "colab_type": "text"
      },
      "source": [
        "* These two books were publiched in the same place, but with different format"
      ]
    },
    {
      "cell_type": "code",
      "metadata": {
        "id": "6Km-wBoOAL57",
        "colab_type": "code",
        "outputId": "ce54c493-261a-4753-ddf5-0a9d877f0a95",
        "colab": {
          "base_uri": "https://localhost:8080/",
          "height": 446
        }
      },
      "source": [
        "pub = df['Place of Publication']\n",
        "# get a boolean mask of the london\n",
        "london = pub.str.contains('London')\n",
        "print(london[:10])\n",
        "# get a boolean mask of the oxford\n",
        "oxford = pub.str.contains('Oxford')\n",
        "print(oxford[:10])"
      ],
      "execution_count": 0,
      "outputs": [
        {
          "output_type": "stream",
          "text": [
            "Identifier\n",
            "206      True\n",
            "216      True\n",
            "218      True\n",
            "472      True\n",
            "480      True\n",
            "481      True\n",
            "519      True\n",
            "667     False\n",
            "874      True\n",
            "1143     True\n",
            "Name: Place of Publication, dtype: bool\n",
            "Identifier\n",
            "206     False\n",
            "216     False\n",
            "218     False\n",
            "472     False\n",
            "480     False\n",
            "481     False\n",
            "519     False\n",
            "667      True\n",
            "874     False\n",
            "1143    False\n",
            "Name: Place of Publication, dtype: bool\n"
          ],
          "name": "stdout"
        }
      ]
    },
    {
      "cell_type": "code",
      "metadata": {
        "id": "0gMy7WaIBEq9",
        "colab_type": "code",
        "outputId": "221d127d-d5f3-4be6-f48a-8ff211ccfa4c",
        "colab": {
          "base_uri": "https://localhost:8080/",
          "height": 321
        }
      },
      "source": [
        "# combine london and oxford\n",
        "df['Place of Publication'] = np.where(london, 'London', \n",
        "                                      np.where(oxford, 'Oxford', \n",
        "                                               pub.str.replace('-', ' ')))\n",
        "df['Place of Publication'].head(15)"
      ],
      "execution_count": 0,
      "outputs": [
        {
          "output_type": "execute_result",
          "data": {
            "text/plain": [
              "Identifier\n",
              "206          London\n",
              "216          London\n",
              "218          London\n",
              "472          London\n",
              "480          London\n",
              "481          London\n",
              "519          London\n",
              "667          Oxford\n",
              "874          London\n",
              "1143         London\n",
              "1280       Coventry\n",
              "1808    Christiania\n",
              "1905        Firenze\n",
              "1929      Amsterdam\n",
              "2836         Savona\n",
              "Name: Place of Publication, dtype: object"
            ]
          },
          "metadata": {
            "tags": []
          },
          "execution_count": 20
        }
      ]
    },
    {
      "cell_type": "markdown",
      "metadata": {
        "id": "r6SDbkyGEcET",
        "colab_type": "text"
      },
      "source": [
        "* here, ***np.where*** function is called in a nested structure, with condition being a Series of booleans obtained with str.contains().\n",
        "\n",
        "* ***str.contains()*** is used to find the occurence of an entity in an iterable (or substring in a string)\n",
        "\n",
        "* we replace hyphens with a space with ***str.replace()*** and reassign to the column in our DataFrame\n",
        "\n",
        "\n"
      ]
    },
    {
      "cell_type": "markdown",
      "metadata": {
        "id": "vI6wihDWGbbw",
        "colab_type": "text"
      },
      "source": [
        "##**Cleaning the Entire Datase Using the applymap Function**\n",
        "\n",
        "* ***.applymap()*** method: apply a function to all the elements in a Dataframe\n",
        "\n",
        "After examing the original dataset:\n",
        "* We see that we have periodic state names followed by the **university towns** in that state\n",
        "* The state names have the **\"[edit]\"**substring in them\n",
        "* Create a list of **(state, city) tuples** and wrapping that list in a dataframe"
      ]
    },
    {
      "cell_type": "code",
      "metadata": {
        "id": "crGIV-LR_-U_",
        "colab_type": "code",
        "colab": {}
      },
      "source": [
        "university_towns = []\n",
        "with open('/content/gdrive/My Drive/201911ML/university_towns.txt') as file:\n",
        "  for line in file:\n",
        "    if '[edit]' in line:\n",
        "      # Remember this 'state' until the next is found\n",
        "      state = line\n",
        "    else:\n",
        "      # Otherwise, we have a city; keep 'state' as last-seen\n",
        "      university_towns.append((state, line))\n"
      ],
      "execution_count": 0,
      "outputs": []
    },
    {
      "cell_type": "code",
      "metadata": {
        "id": "mXAz9ZRk6hok",
        "colab_type": "code",
        "outputId": "e2dff3e8-4198-41f8-d084-156bed2975d9",
        "colab": {
          "base_uri": "https://localhost:8080/",
          "height": 466
        }
      },
      "source": [
        "university_towns[:20]"
      ],
      "execution_count": 0,
      "outputs": [
        {
          "output_type": "execute_result",
          "data": {
            "text/plain": [
              "[('Alabama[edit]\\n', 'Auburn (Auburn University)[1]\\n'),\n",
              " ('Alabama[edit]\\n', 'Florence (University of North Alabama)\\n'),\n",
              " ('Alabama[edit]\\n', 'Jacksonville (Jacksonville State University)[2]\\n'),\n",
              " ('Alabama[edit]\\n', 'Livingston (University of West Alabama)[2]\\n'),\n",
              " ('Alabama[edit]\\n', 'Montevallo (University of Montevallo)[2]\\n'),\n",
              " ('Alabama[edit]\\n', 'Troy (Troy University)[2]\\n'),\n",
              " ('Alabama[edit]\\n',\n",
              "  'Tuscaloosa (University of Alabama, Stillman College, Shelton State)[3][4]\\n'),\n",
              " ('Alabama[edit]\\n', 'Tuskegee (Tuskegee University)[5]\\n'),\n",
              " ('Alaska[edit]\\n', 'Fairbanks (University of Alaska Fairbanks)[2]\\n'),\n",
              " ('Arizona[edit]\\n', 'Flagstaff (Northern Arizona University)[6]\\n'),\n",
              " ('Arizona[edit]\\n', 'Tempe (Arizona State University)\\n'),\n",
              " ('Arizona[edit]\\n', 'Tucson (University of Arizona)\\n'),\n",
              " ('Arkansas[edit]\\n',\n",
              "  'Arkadelphia (Henderson State University, Ouachita Baptist University)[2]\\n'),\n",
              " ('Arkansas[edit]\\n',\n",
              "  'Conway (Central Baptist College, Hendrix College, University of Central Arkansas)[2]\\n'),\n",
              " ('Arkansas[edit]\\n', 'Fayetteville (University of Arkansas)[7]\\n'),\n",
              " ('Arkansas[edit]\\n', 'Jonesboro (Arkansas State University)[8]\\n'),\n",
              " ('Arkansas[edit]\\n', 'Magnolia (Southern Arkansas University)[2]\\n'),\n",
              " ('Arkansas[edit]\\n',\n",
              "  'Monticello (University of Arkansas at Monticello)[2]\\n'),\n",
              " ('Arkansas[edit]\\n', 'Russellville (Arkansas Tech University)[2]\\n'),\n",
              " ('Arkansas[edit]\\n', 'Searcy (Harding University)[5]\\n')]"
            ]
          },
          "metadata": {
            "tags": []
          },
          "execution_count": 25
        }
      ]
    },
    {
      "cell_type": "code",
      "metadata": {
        "id": "LXvLqmmD6gL1",
        "colab_type": "code",
        "outputId": "030449a1-fb63-40fb-e03c-44afa8dcef3d",
        "colab": {
          "base_uri": "https://localhost:8080/",
          "height": 201
        }
      },
      "source": [
        "# convert to pandas dataframe\n",
        "towns_df = pd.DataFrame(university_towns, columns=['State', 'RegionName'])\n",
        "towns_df.head()"
      ],
      "execution_count": 0,
      "outputs": [
        {
          "output_type": "execute_result",
          "data": {
            "text/html": [
              "<div>\n",
              "<style scoped>\n",
              "    .dataframe tbody tr th:only-of-type {\n",
              "        vertical-align: middle;\n",
              "    }\n",
              "\n",
              "    .dataframe tbody tr th {\n",
              "        vertical-align: top;\n",
              "    }\n",
              "\n",
              "    .dataframe thead th {\n",
              "        text-align: right;\n",
              "    }\n",
              "</style>\n",
              "<table border=\"1\" class=\"dataframe\">\n",
              "  <thead>\n",
              "    <tr style=\"text-align: right;\">\n",
              "      <th></th>\n",
              "      <th>State</th>\n",
              "      <th>RegionName</th>\n",
              "    </tr>\n",
              "  </thead>\n",
              "  <tbody>\n",
              "    <tr>\n",
              "      <th>0</th>\n",
              "      <td>Alabama[edit]\\n</td>\n",
              "      <td>Auburn (Auburn University)[1]\\n</td>\n",
              "    </tr>\n",
              "    <tr>\n",
              "      <th>1</th>\n",
              "      <td>Alabama[edit]\\n</td>\n",
              "      <td>Florence (University of North Alabama)\\n</td>\n",
              "    </tr>\n",
              "    <tr>\n",
              "      <th>2</th>\n",
              "      <td>Alabama[edit]\\n</td>\n",
              "      <td>Jacksonville (Jacksonville State University)[2]\\n</td>\n",
              "    </tr>\n",
              "    <tr>\n",
              "      <th>3</th>\n",
              "      <td>Alabama[edit]\\n</td>\n",
              "      <td>Livingston (University of West Alabama)[2]\\n</td>\n",
              "    </tr>\n",
              "    <tr>\n",
              "      <th>4</th>\n",
              "      <td>Alabama[edit]\\n</td>\n",
              "      <td>Montevallo (University of Montevallo)[2]\\n</td>\n",
              "    </tr>\n",
              "  </tbody>\n",
              "</table>\n",
              "</div>"
            ],
            "text/plain": [
              "             State                                         RegionName\n",
              "0  Alabama[edit]\\n                    Auburn (Auburn University)[1]\\n\n",
              "1  Alabama[edit]\\n           Florence (University of North Alabama)\\n\n",
              "2  Alabama[edit]\\n  Jacksonville (Jacksonville State University)[2]\\n\n",
              "3  Alabama[edit]\\n       Livingston (University of West Alabama)[2]\\n\n",
              "4  Alabama[edit]\\n         Montevallo (University of Montevallo)[2]\\n"
            ]
          },
          "metadata": {
            "tags": []
          },
          "execution_count": 24
        }
      ]
    },
    {
      "cell_type": "markdown",
      "metadata": {
        "id": "c9hwsp1fLheL",
        "colab_type": "text"
      },
      "source": [
        "* We only need the state name and town name"
      ]
    },
    {
      "cell_type": "code",
      "metadata": {
        "id": "sFX2iZyM6eeT",
        "colab_type": "code",
        "colab": {}
      },
      "source": [
        "# We only need state and town name, so we can remove everthing else\n",
        "# In the following function, checks are performed in each element to \n",
        "# determine whether there's a ( or [ in the element or not\n",
        "def get_citystate(item):\n",
        "  if '(' in item:\n",
        "    return item[:item.find('(')]\n",
        "  elif '[' in item:\n",
        "    return item[:item.find('[')]\n",
        "  else:\n",
        "    return item"
      ],
      "execution_count": 0,
      "outputs": []
    },
    {
      "cell_type": "code",
      "metadata": {
        "id": "hbFuSqFy6Bi5",
        "colab_type": "code",
        "colab": {}
      },
      "source": [
        "# .applymap() only takes one parameter, which is the function that should\n",
        "# be applied to each element\n",
        "towns_df = towns_df.applymap(get_citystate)"
      ],
      "execution_count": 0,
      "outputs": []
    },
    {
      "cell_type": "code",
      "metadata": {
        "id": "AQnEKkDTPxxt",
        "colab_type": "code",
        "outputId": "a2667470-4614-4362-fb08-a648faf23dd0",
        "colab": {
          "base_uri": "https://localhost:8080/",
          "height": 201
        }
      },
      "source": [
        "towns_df.head()"
      ],
      "execution_count": 0,
      "outputs": [
        {
          "output_type": "execute_result",
          "data": {
            "text/html": [
              "<div>\n",
              "<style scoped>\n",
              "    .dataframe tbody tr th:only-of-type {\n",
              "        vertical-align: middle;\n",
              "    }\n",
              "\n",
              "    .dataframe tbody tr th {\n",
              "        vertical-align: top;\n",
              "    }\n",
              "\n",
              "    .dataframe thead th {\n",
              "        text-align: right;\n",
              "    }\n",
              "</style>\n",
              "<table border=\"1\" class=\"dataframe\">\n",
              "  <thead>\n",
              "    <tr style=\"text-align: right;\">\n",
              "      <th></th>\n",
              "      <th>State</th>\n",
              "      <th>RegionName</th>\n",
              "    </tr>\n",
              "  </thead>\n",
              "  <tbody>\n",
              "    <tr>\n",
              "      <th>0</th>\n",
              "      <td>Alabama</td>\n",
              "      <td>Auburn</td>\n",
              "    </tr>\n",
              "    <tr>\n",
              "      <th>1</th>\n",
              "      <td>Alabama</td>\n",
              "      <td>Florence</td>\n",
              "    </tr>\n",
              "    <tr>\n",
              "      <th>2</th>\n",
              "      <td>Alabama</td>\n",
              "      <td>Jacksonville</td>\n",
              "    </tr>\n",
              "    <tr>\n",
              "      <th>3</th>\n",
              "      <td>Alabama</td>\n",
              "      <td>Livingston</td>\n",
              "    </tr>\n",
              "    <tr>\n",
              "      <th>4</th>\n",
              "      <td>Alabama</td>\n",
              "      <td>Montevallo</td>\n",
              "    </tr>\n",
              "  </tbody>\n",
              "</table>\n",
              "</div>"
            ],
            "text/plain": [
              "     State     RegionName\n",
              "0  Alabama        Auburn \n",
              "1  Alabama      Florence \n",
              "2  Alabama  Jacksonville \n",
              "3  Alabama    Livingston \n",
              "4  Alabama    Montevallo "
            ]
          },
          "metadata": {
            "tags": []
          },
          "execution_count": 29
        }
      ]
    },
    {
      "cell_type": "markdown",
      "metadata": {
        "id": "hEINN4ZuQL3J",
        "colab_type": "text"
      },
      "source": [
        "##**Renaming Columns and Skipping Rows**\n"
      ]
    },
    {
      "cell_type": "code",
      "metadata": {
        "id": "Bjkf_BzeQVKZ",
        "colab_type": "code",
        "outputId": "0c030f0e-2776-4948-fc54-9ec603fe7cad",
        "colab": {
          "base_uri": "https://localhost:8080/",
          "height": 306
        }
      },
      "source": [
        "olympics_df = pd.read_csv('/content/gdrive/My Drive/201911ML/olympics.csv')\n",
        "olympics_df.head()"
      ],
      "execution_count": 0,
      "outputs": [
        {
          "output_type": "execute_result",
          "data": {
            "text/html": [
              "<div>\n",
              "<style scoped>\n",
              "    .dataframe tbody tr th:only-of-type {\n",
              "        vertical-align: middle;\n",
              "    }\n",
              "\n",
              "    .dataframe tbody tr th {\n",
              "        vertical-align: top;\n",
              "    }\n",
              "\n",
              "    .dataframe thead th {\n",
              "        text-align: right;\n",
              "    }\n",
              "</style>\n",
              "<table border=\"1\" class=\"dataframe\">\n",
              "  <thead>\n",
              "    <tr style=\"text-align: right;\">\n",
              "      <th></th>\n",
              "      <th>0</th>\n",
              "      <th>1</th>\n",
              "      <th>2</th>\n",
              "      <th>3</th>\n",
              "      <th>4</th>\n",
              "      <th>5</th>\n",
              "      <th>6</th>\n",
              "      <th>7</th>\n",
              "      <th>8</th>\n",
              "      <th>9</th>\n",
              "      <th>10</th>\n",
              "      <th>11</th>\n",
              "      <th>12</th>\n",
              "      <th>13</th>\n",
              "      <th>14</th>\n",
              "      <th>15</th>\n",
              "    </tr>\n",
              "  </thead>\n",
              "  <tbody>\n",
              "    <tr>\n",
              "      <th>0</th>\n",
              "      <td>NaN</td>\n",
              "      <td>? Summer</td>\n",
              "      <td>01 !</td>\n",
              "      <td>02 !</td>\n",
              "      <td>03 !</td>\n",
              "      <td>Total</td>\n",
              "      <td>? Winter</td>\n",
              "      <td>01 !</td>\n",
              "      <td>02 !</td>\n",
              "      <td>03 !</td>\n",
              "      <td>Total</td>\n",
              "      <td>? Games</td>\n",
              "      <td>01 !</td>\n",
              "      <td>02 !</td>\n",
              "      <td>03 !</td>\n",
              "      <td>Combined total</td>\n",
              "    </tr>\n",
              "    <tr>\n",
              "      <th>1</th>\n",
              "      <td>Afghanistan (AFG)</td>\n",
              "      <td>13</td>\n",
              "      <td>0</td>\n",
              "      <td>0</td>\n",
              "      <td>2</td>\n",
              "      <td>2</td>\n",
              "      <td>0</td>\n",
              "      <td>0</td>\n",
              "      <td>0</td>\n",
              "      <td>0</td>\n",
              "      <td>0</td>\n",
              "      <td>13</td>\n",
              "      <td>0</td>\n",
              "      <td>0</td>\n",
              "      <td>2</td>\n",
              "      <td>2</td>\n",
              "    </tr>\n",
              "    <tr>\n",
              "      <th>2</th>\n",
              "      <td>Algeria (ALG)</td>\n",
              "      <td>12</td>\n",
              "      <td>5</td>\n",
              "      <td>2</td>\n",
              "      <td>8</td>\n",
              "      <td>15</td>\n",
              "      <td>3</td>\n",
              "      <td>0</td>\n",
              "      <td>0</td>\n",
              "      <td>0</td>\n",
              "      <td>0</td>\n",
              "      <td>15</td>\n",
              "      <td>5</td>\n",
              "      <td>2</td>\n",
              "      <td>8</td>\n",
              "      <td>15</td>\n",
              "    </tr>\n",
              "    <tr>\n",
              "      <th>3</th>\n",
              "      <td>Argentina (ARG)</td>\n",
              "      <td>23</td>\n",
              "      <td>18</td>\n",
              "      <td>24</td>\n",
              "      <td>28</td>\n",
              "      <td>70</td>\n",
              "      <td>18</td>\n",
              "      <td>0</td>\n",
              "      <td>0</td>\n",
              "      <td>0</td>\n",
              "      <td>0</td>\n",
              "      <td>41</td>\n",
              "      <td>18</td>\n",
              "      <td>24</td>\n",
              "      <td>28</td>\n",
              "      <td>70</td>\n",
              "    </tr>\n",
              "    <tr>\n",
              "      <th>4</th>\n",
              "      <td>Armenia (ARM)</td>\n",
              "      <td>5</td>\n",
              "      <td>1</td>\n",
              "      <td>2</td>\n",
              "      <td>9</td>\n",
              "      <td>12</td>\n",
              "      <td>6</td>\n",
              "      <td>0</td>\n",
              "      <td>0</td>\n",
              "      <td>0</td>\n",
              "      <td>0</td>\n",
              "      <td>11</td>\n",
              "      <td>1</td>\n",
              "      <td>2</td>\n",
              "      <td>9</td>\n",
              "      <td>12</td>\n",
              "    </tr>\n",
              "  </tbody>\n",
              "</table>\n",
              "</div>"
            ],
            "text/plain": [
              "                   0         1     2     3  ...    12    13    14              15\n",
              "0                NaN  ? Summer  01 !  02 !  ...  01 !  02 !  03 !  Combined total\n",
              "1  Afghanistan (AFG)        13     0     0  ...     0     0     2               2\n",
              "2      Algeria (ALG)        12     5     2  ...     5     2     8              15\n",
              "3    Argentina (ARG)        23    18    24  ...    18    24    28              70\n",
              "4      Armenia (ARM)         5     1     2  ...     1     2     9              12\n",
              "\n",
              "[5 rows x 16 columns]"
            ]
          },
          "metadata": {
            "tags": []
          },
          "execution_count": 32
        }
      ]
    },
    {
      "cell_type": "markdown",
      "metadata": {
        "id": "pwEr_HVsRlmA",
        "colab_type": "text"
      },
      "source": [
        "if we go to the [source of this dataset](https://en.wikipedia.org/wiki/All-time_Olympic_Games_medal_table), we'd see that \n",
        "* **NaN** above should really be something like “Country”\n",
        "* **? Summer** is supposed to represent “Number of Summer Games”\n",
        "* **01!** should be “Gold”, and so on.\n",
        "\n",
        "Therefore, we need to do two things:\n",
        "* skip one row and set the header as the first(0-indexed) row\n",
        "* rename the columns\n",
        "\n",
        "We can skip rows and set the header while reading the CSV file by passing some parameters to the read_csv() function."
      ]
    },
    {
      "cell_type": "code",
      "metadata": {
        "id": "FauTC8HjSL_L",
        "colab_type": "code",
        "outputId": "ea25b323-3c7f-4ed7-f270-9473bd2f0a4a",
        "colab": {
          "base_uri": "https://localhost:8080/",
          "height": 341
        }
      },
      "source": [
        "olympics_df = pd.read_csv('/content/gdrive/My Drive/201911ML/olympics.csv', header=1)\n",
        "olympics_df.head()"
      ],
      "execution_count": 0,
      "outputs": [
        {
          "output_type": "execute_result",
          "data": {
            "text/html": [
              "<div>\n",
              "<style scoped>\n",
              "    .dataframe tbody tr th:only-of-type {\n",
              "        vertical-align: middle;\n",
              "    }\n",
              "\n",
              "    .dataframe tbody tr th {\n",
              "        vertical-align: top;\n",
              "    }\n",
              "\n",
              "    .dataframe thead th {\n",
              "        text-align: right;\n",
              "    }\n",
              "</style>\n",
              "<table border=\"1\" class=\"dataframe\">\n",
              "  <thead>\n",
              "    <tr style=\"text-align: right;\">\n",
              "      <th></th>\n",
              "      <th>Unnamed: 0</th>\n",
              "      <th>? Summer</th>\n",
              "      <th>01 !</th>\n",
              "      <th>02 !</th>\n",
              "      <th>03 !</th>\n",
              "      <th>Total</th>\n",
              "      <th>? Winter</th>\n",
              "      <th>01 !.1</th>\n",
              "      <th>02 !.1</th>\n",
              "      <th>03 !.1</th>\n",
              "      <th>Total.1</th>\n",
              "      <th>? Games</th>\n",
              "      <th>01 !.2</th>\n",
              "      <th>02 !.2</th>\n",
              "      <th>03 !.2</th>\n",
              "      <th>Combined total</th>\n",
              "    </tr>\n",
              "  </thead>\n",
              "  <tbody>\n",
              "    <tr>\n",
              "      <th>0</th>\n",
              "      <td>Afghanistan (AFG)</td>\n",
              "      <td>13</td>\n",
              "      <td>0</td>\n",
              "      <td>0</td>\n",
              "      <td>2</td>\n",
              "      <td>2</td>\n",
              "      <td>0</td>\n",
              "      <td>0</td>\n",
              "      <td>0</td>\n",
              "      <td>0</td>\n",
              "      <td>0</td>\n",
              "      <td>13</td>\n",
              "      <td>0</td>\n",
              "      <td>0</td>\n",
              "      <td>2</td>\n",
              "      <td>2</td>\n",
              "    </tr>\n",
              "    <tr>\n",
              "      <th>1</th>\n",
              "      <td>Algeria (ALG)</td>\n",
              "      <td>12</td>\n",
              "      <td>5</td>\n",
              "      <td>2</td>\n",
              "      <td>8</td>\n",
              "      <td>15</td>\n",
              "      <td>3</td>\n",
              "      <td>0</td>\n",
              "      <td>0</td>\n",
              "      <td>0</td>\n",
              "      <td>0</td>\n",
              "      <td>15</td>\n",
              "      <td>5</td>\n",
              "      <td>2</td>\n",
              "      <td>8</td>\n",
              "      <td>15</td>\n",
              "    </tr>\n",
              "    <tr>\n",
              "      <th>2</th>\n",
              "      <td>Argentina (ARG)</td>\n",
              "      <td>23</td>\n",
              "      <td>18</td>\n",
              "      <td>24</td>\n",
              "      <td>28</td>\n",
              "      <td>70</td>\n",
              "      <td>18</td>\n",
              "      <td>0</td>\n",
              "      <td>0</td>\n",
              "      <td>0</td>\n",
              "      <td>0</td>\n",
              "      <td>41</td>\n",
              "      <td>18</td>\n",
              "      <td>24</td>\n",
              "      <td>28</td>\n",
              "      <td>70</td>\n",
              "    </tr>\n",
              "    <tr>\n",
              "      <th>3</th>\n",
              "      <td>Armenia (ARM)</td>\n",
              "      <td>5</td>\n",
              "      <td>1</td>\n",
              "      <td>2</td>\n",
              "      <td>9</td>\n",
              "      <td>12</td>\n",
              "      <td>6</td>\n",
              "      <td>0</td>\n",
              "      <td>0</td>\n",
              "      <td>0</td>\n",
              "      <td>0</td>\n",
              "      <td>11</td>\n",
              "      <td>1</td>\n",
              "      <td>2</td>\n",
              "      <td>9</td>\n",
              "      <td>12</td>\n",
              "    </tr>\n",
              "    <tr>\n",
              "      <th>4</th>\n",
              "      <td>Australasia (ANZ) [ANZ]</td>\n",
              "      <td>2</td>\n",
              "      <td>3</td>\n",
              "      <td>4</td>\n",
              "      <td>5</td>\n",
              "      <td>12</td>\n",
              "      <td>0</td>\n",
              "      <td>0</td>\n",
              "      <td>0</td>\n",
              "      <td>0</td>\n",
              "      <td>0</td>\n",
              "      <td>2</td>\n",
              "      <td>3</td>\n",
              "      <td>4</td>\n",
              "      <td>5</td>\n",
              "      <td>12</td>\n",
              "    </tr>\n",
              "  </tbody>\n",
              "</table>\n",
              "</div>"
            ],
            "text/plain": [
              "                Unnamed: 0  ? Summer  01 !  ...  02 !.2  03 !.2  Combined total\n",
              "0        Afghanistan (AFG)        13     0  ...       0       2               2\n",
              "1            Algeria (ALG)        12     5  ...       2       8              15\n",
              "2          Argentina (ARG)        23    18  ...      24      28              70\n",
              "3            Armenia (ARM)         5     1  ...       2       9              12\n",
              "4  Australasia (ANZ) [ANZ]         2     3  ...       4       5              12\n",
              "\n",
              "[5 rows x 16 columns]"
            ]
          },
          "metadata": {
            "tags": []
          },
          "execution_count": 33
        }
      ]
    },
    {
      "cell_type": "markdown",
      "metadata": {
        "id": "lhfAOpLIS_EG",
        "colab_type": "text"
      },
      "source": [
        "* We now have the correct row set as the header and all unnecessary rows removed. \n",
        "* Now, we need to rename the columns using DataFrame's rename() method, which allows you to relabel an axis based on a ***mapping***"
      ]
    },
    {
      "cell_type": "code",
      "metadata": {
        "id": "8xKlnxFfS4M4",
        "colab_type": "code",
        "colab": {}
      },
      "source": [
        "new_names =  {'Unnamed: 0': 'Country',\n",
        "               '? Summer': 'Summer Olympics',\n",
        "               '01 !': 'Gold',\n",
        "               '02 !': 'Silver',\n",
        "               '03 !': 'Bronze',\n",
        "               '? Winter': 'Winter Olympics',\n",
        "               '01 !.1': 'Gold.1',\n",
        "               '02 !.1': 'Silver.1',\n",
        "               '03 !.1': 'Bronze.1',\n",
        "               '? Games': '# Games',\n",
        "               '01 !.2': 'Gold.2',\n",
        "               '02 !.2': 'Silver.2',\n",
        "               '03 !.2': 'Bronze.2'}"
      ],
      "execution_count": 0,
      "outputs": []
    },
    {
      "cell_type": "code",
      "metadata": {
        "id": "NGcLy3W-UvOr",
        "colab_type": "code",
        "outputId": "5d74e882-98da-47b6-d69a-2dec60708319",
        "colab": {
          "base_uri": "https://localhost:8080/",
          "height": 341
        }
      },
      "source": [
        "olympics_df.rename(columns=new_names, inplace=True)\n",
        "olympics_df.head()"
      ],
      "execution_count": 0,
      "outputs": [
        {
          "output_type": "execute_result",
          "data": {
            "text/html": [
              "<div>\n",
              "<style scoped>\n",
              "    .dataframe tbody tr th:only-of-type {\n",
              "        vertical-align: middle;\n",
              "    }\n",
              "\n",
              "    .dataframe tbody tr th {\n",
              "        vertical-align: top;\n",
              "    }\n",
              "\n",
              "    .dataframe thead th {\n",
              "        text-align: right;\n",
              "    }\n",
              "</style>\n",
              "<table border=\"1\" class=\"dataframe\">\n",
              "  <thead>\n",
              "    <tr style=\"text-align: right;\">\n",
              "      <th></th>\n",
              "      <th>Country</th>\n",
              "      <th>Summer Olympics</th>\n",
              "      <th>Gold</th>\n",
              "      <th>Silver</th>\n",
              "      <th>Bronze</th>\n",
              "      <th>Total</th>\n",
              "      <th>Winter Olympics</th>\n",
              "      <th>Gold.1</th>\n",
              "      <th>Silver.1</th>\n",
              "      <th>Bronze.1</th>\n",
              "      <th>Total.1</th>\n",
              "      <th># Games</th>\n",
              "      <th>Gold.2</th>\n",
              "      <th>Silver.2</th>\n",
              "      <th>Bronze.2</th>\n",
              "      <th>Combined total</th>\n",
              "    </tr>\n",
              "  </thead>\n",
              "  <tbody>\n",
              "    <tr>\n",
              "      <th>0</th>\n",
              "      <td>Afghanistan (AFG)</td>\n",
              "      <td>13</td>\n",
              "      <td>0</td>\n",
              "      <td>0</td>\n",
              "      <td>2</td>\n",
              "      <td>2</td>\n",
              "      <td>0</td>\n",
              "      <td>0</td>\n",
              "      <td>0</td>\n",
              "      <td>0</td>\n",
              "      <td>0</td>\n",
              "      <td>13</td>\n",
              "      <td>0</td>\n",
              "      <td>0</td>\n",
              "      <td>2</td>\n",
              "      <td>2</td>\n",
              "    </tr>\n",
              "    <tr>\n",
              "      <th>1</th>\n",
              "      <td>Algeria (ALG)</td>\n",
              "      <td>12</td>\n",
              "      <td>5</td>\n",
              "      <td>2</td>\n",
              "      <td>8</td>\n",
              "      <td>15</td>\n",
              "      <td>3</td>\n",
              "      <td>0</td>\n",
              "      <td>0</td>\n",
              "      <td>0</td>\n",
              "      <td>0</td>\n",
              "      <td>15</td>\n",
              "      <td>5</td>\n",
              "      <td>2</td>\n",
              "      <td>8</td>\n",
              "      <td>15</td>\n",
              "    </tr>\n",
              "    <tr>\n",
              "      <th>2</th>\n",
              "      <td>Argentina (ARG)</td>\n",
              "      <td>23</td>\n",
              "      <td>18</td>\n",
              "      <td>24</td>\n",
              "      <td>28</td>\n",
              "      <td>70</td>\n",
              "      <td>18</td>\n",
              "      <td>0</td>\n",
              "      <td>0</td>\n",
              "      <td>0</td>\n",
              "      <td>0</td>\n",
              "      <td>41</td>\n",
              "      <td>18</td>\n",
              "      <td>24</td>\n",
              "      <td>28</td>\n",
              "      <td>70</td>\n",
              "    </tr>\n",
              "    <tr>\n",
              "      <th>3</th>\n",
              "      <td>Armenia (ARM)</td>\n",
              "      <td>5</td>\n",
              "      <td>1</td>\n",
              "      <td>2</td>\n",
              "      <td>9</td>\n",
              "      <td>12</td>\n",
              "      <td>6</td>\n",
              "      <td>0</td>\n",
              "      <td>0</td>\n",
              "      <td>0</td>\n",
              "      <td>0</td>\n",
              "      <td>11</td>\n",
              "      <td>1</td>\n",
              "      <td>2</td>\n",
              "      <td>9</td>\n",
              "      <td>12</td>\n",
              "    </tr>\n",
              "    <tr>\n",
              "      <th>4</th>\n",
              "      <td>Australasia (ANZ) [ANZ]</td>\n",
              "      <td>2</td>\n",
              "      <td>3</td>\n",
              "      <td>4</td>\n",
              "      <td>5</td>\n",
              "      <td>12</td>\n",
              "      <td>0</td>\n",
              "      <td>0</td>\n",
              "      <td>0</td>\n",
              "      <td>0</td>\n",
              "      <td>0</td>\n",
              "      <td>2</td>\n",
              "      <td>3</td>\n",
              "      <td>4</td>\n",
              "      <td>5</td>\n",
              "      <td>12</td>\n",
              "    </tr>\n",
              "  </tbody>\n",
              "</table>\n",
              "</div>"
            ],
            "text/plain": [
              "                   Country  Summer Olympics  ...  Bronze.2  Combined total\n",
              "0        Afghanistan (AFG)               13  ...         2               2\n",
              "1            Algeria (ALG)               12  ...         8              15\n",
              "2          Argentina (ARG)               23  ...        28              70\n",
              "3            Armenia (ARM)                5  ...         9              12\n",
              "4  Australasia (ANZ) [ANZ]                2  ...         5              12\n",
              "\n",
              "[5 rows x 16 columns]"
            ]
          },
          "metadata": {
            "tags": []
          },
          "execution_count": 37
        }
      ]
    }
  ]
}